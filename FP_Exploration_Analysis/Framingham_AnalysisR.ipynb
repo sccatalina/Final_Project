{
 "cells": [
  {
   "cell_type": "markdown",
   "metadata": {},
   "source": [
    "### Analysis with Framingham Dataset from Kaggle on Heart Disease:\n",
    "#### https://www.kaggle.com/captainozlem/framingham-chd-preprocessed-data/version/1"
   ]
  },
  {
   "cell_type": "markdown",
   "metadata": {},
   "source": [
    "### Load Libraries"
   ]
  },
  {
   "cell_type": "code",
   "execution_count": 1,
   "metadata": {},
   "outputs": [
    {
     "name": "stderr",
     "output_type": "stream",
     "text": [
      "Installing package into 'C:/Users/Mia/OneDrive/Documents/R/win-library/4.1'\n",
      "(as 'lib' is unspecified)\n",
      "\n",
      "also installing the dependencies 'gtools', 'gdata'\n",
      "\n",
      "\n"
     ]
    },
    {
     "name": "stdout",
     "output_type": "stream",
     "text": [
      "package 'gtools' successfully unpacked and MD5 sums checked\n",
      "package 'gdata' successfully unpacked and MD5 sums checked\n",
      "package 'gmodels' successfully unpacked and MD5 sums checked\n",
      "\n",
      "The downloaded binary packages are in\n",
      "\tC:\\Users\\Mia\\AppData\\Local\\Temp\\Rtmpg7AV5M\\downloaded_packages\n"
     ]
    }
   ],
   "source": [
    "install.packages(\"gmodels\")\n",
    "library(\"gmodels\")"
   ]
  },
  {
   "cell_type": "code",
   "execution_count": 7,
   "metadata": {},
   "outputs": [
    {
     "name": "stderr",
     "output_type": "stream",
     "text": [
      "Installing package into 'C:/Users/Mia/OneDrive/Documents/R/win-library/4.1'\n",
      "(as 'lib' is unspecified)\n",
      "\n",
      "also installing the dependencies 'future.apply', 'progressr', 'numDeriv', 'SQUAREM', 'lava', 'prodlim', 'iterators', 'gower', 'ipred', 'lubridate', 'timeDate', 'foreach', 'ModelMetrics', 'reshape2', 'recipes', 'pROC'\n",
      "\n",
      "\n"
     ]
    },
    {
     "name": "stdout",
     "output_type": "stream",
     "text": [
      "package 'future.apply' successfully unpacked and MD5 sums checked\n",
      "package 'progressr' successfully unpacked and MD5 sums checked\n",
      "package 'numDeriv' successfully unpacked and MD5 sums checked\n",
      "package 'SQUAREM' successfully unpacked and MD5 sums checked\n",
      "package 'lava' successfully unpacked and MD5 sums checked\n",
      "package 'prodlim' successfully unpacked and MD5 sums checked\n",
      "package 'iterators' successfully unpacked and MD5 sums checked\n",
      "package 'gower' successfully unpacked and MD5 sums checked\n",
      "package 'ipred' successfully unpacked and MD5 sums checked\n",
      "package 'lubridate' successfully unpacked and MD5 sums checked\n",
      "package 'timeDate' successfully unpacked and MD5 sums checked\n",
      "package 'foreach' successfully unpacked and MD5 sums checked\n",
      "package 'ModelMetrics' successfully unpacked and MD5 sums checked\n",
      "package 'reshape2' successfully unpacked and MD5 sums checked\n",
      "package 'recipes' successfully unpacked and MD5 sums checked\n",
      "package 'pROC' successfully unpacked and MD5 sums checked\n",
      "package 'caret' successfully unpacked and MD5 sums checked\n",
      "\n",
      "The downloaded binary packages are in\n",
      "\tC:\\Users\\Mia\\AppData\\Local\\Temp\\Rtmpg7AV5M\\downloaded_packages\n"
     ]
    },
    {
     "name": "stderr",
     "output_type": "stream",
     "text": [
      "Loading required package: lattice\n",
      "\n",
      "Loading required package: ggplot2\n",
      "\n"
     ]
    }
   ],
   "source": [
    "install.packages(\"caret\")\n",
    "library(\"caret\")"
   ]
  },
  {
   "cell_type": "code",
   "execution_count": 6,
   "metadata": {},
   "outputs": [
    {
     "name": "stderr",
     "output_type": "stream",
     "text": [
      "Installing package into 'C:/Users/Mia/OneDrive/Documents/R/win-library/4.1'\n",
      "(as 'lib' is unspecified)\n",
      "\n"
     ]
    },
    {
     "name": "stdout",
     "output_type": "stream",
     "text": [
      "package 'MASS' successfully unpacked and MD5 sums checked\n",
      "\n",
      "The downloaded binary packages are in\n",
      "\tC:\\Users\\Mia\\AppData\\Local\\Temp\\Rtmpg7AV5M\\downloaded_packages\n"
     ]
    }
   ],
   "source": [
    "install.packages(\"MASS\")\n",
    "library(\"MASS\")"
   ]
  },
  {
   "cell_type": "code",
   "execution_count": 9,
   "metadata": {},
   "outputs": [
    {
     "name": "stderr",
     "output_type": "stream",
     "text": [
      "Installing package into 'C:/Users/Mia/OneDrive/Documents/R/win-library/4.1'\n",
      "(as 'lib' is unspecified)\n",
      "\n"
     ]
    },
    {
     "name": "stdout",
     "output_type": "stream",
     "text": [
      "package 'dplyr' successfully unpacked and MD5 sums checked\n"
     ]
    },
    {
     "name": "stderr",
     "output_type": "stream",
     "text": [
      "Warning message:\n",
      "\"cannot remove prior installation of package 'dplyr'\"\n",
      "Warning message in file.copy(savedcopy, lib, recursive = TRUE):\n",
      "\"problem copying C:\\Users\\Mia\\OneDrive\\Documents\\R\\win-library\\4.1\\00LOCK\\dplyr\\libs\\x64\\dplyr.dll to C:\\Users\\Mia\\OneDrive\\Documents\\R\\win-library\\4.1\\dplyr\\libs\\x64\\dplyr.dll: Permission denied\"\n",
      "Warning message:\n",
      "\"restored 'dplyr'\"\n"
     ]
    },
    {
     "name": "stdout",
     "output_type": "stream",
     "text": [
      "\n",
      "The downloaded binary packages are in\n",
      "\tC:\\Users\\Mia\\AppData\\Local\\Temp\\Rtmpg7AV5M\\downloaded_packages\n"
     ]
    },
    {
     "name": "stderr",
     "output_type": "stream",
     "text": [
      "\n",
      "Attaching package: 'dplyr'\n",
      "\n",
      "\n",
      "The following object is masked from 'package:MASS':\n",
      "\n",
      "    select\n",
      "\n",
      "\n",
      "The following objects are masked from 'package:stats':\n",
      "\n",
      "    filter, lag\n",
      "\n",
      "\n",
      "The following objects are masked from 'package:base':\n",
      "\n",
      "    intersect, setdiff, setequal, union\n",
      "\n",
      "\n"
     ]
    }
   ],
   "source": [
    "install.packages(\"dplyr\")\n",
    "library(\"dplyr\")"
   ]
  },
  {
   "cell_type": "markdown",
   "metadata": {},
   "source": [
    "### Load in data"
   ]
  },
  {
   "cell_type": "code",
   "execution_count": 2,
   "metadata": {},
   "outputs": [],
   "source": [
    "CHD = read.csv('C:/Users/Mia/OneDrive/Documents/GitHub/Final_Project/Datasets/CHD_preprocessed.csv')"
   ]
  },
  {
   "cell_type": "code",
   "execution_count": 5,
   "metadata": {},
   "outputs": [
    {
     "data": {
      "text/html": [
       "<table class=\"dataframe\">\n",
       "<caption>A data.frame: 6 × 16</caption>\n",
       "<thead>\n",
       "\t<tr><th></th><th scope=col>male</th><th scope=col>age</th><th scope=col>education</th><th scope=col>currentSmoker</th><th scope=col>cigsPerDay</th><th scope=col>BPMeds</th><th scope=col>prevalentStroke</th><th scope=col>prevalentHyp</th><th scope=col>diabetes</th><th scope=col>totChol</th><th scope=col>sysBP</th><th scope=col>diaBP</th><th scope=col>BMI</th><th scope=col>heartRate</th><th scope=col>glucose</th><th scope=col>TenYearCHD</th></tr>\n",
       "\t<tr><th></th><th scope=col>&lt;int&gt;</th><th scope=col>&lt;int&gt;</th><th scope=col>&lt;int&gt;</th><th scope=col>&lt;int&gt;</th><th scope=col>&lt;dbl&gt;</th><th scope=col>&lt;dbl&gt;</th><th scope=col>&lt;int&gt;</th><th scope=col>&lt;int&gt;</th><th scope=col>&lt;int&gt;</th><th scope=col>&lt;dbl&gt;</th><th scope=col>&lt;dbl&gt;</th><th scope=col>&lt;dbl&gt;</th><th scope=col>&lt;dbl&gt;</th><th scope=col>&lt;dbl&gt;</th><th scope=col>&lt;dbl&gt;</th><th scope=col>&lt;int&gt;</th></tr>\n",
       "</thead>\n",
       "<tbody>\n",
       "\t<tr><th scope=row>1</th><td>1</td><td>39</td><td>1</td><td>0</td><td> 0</td><td>0</td><td>0</td><td>0</td><td>0</td><td>195</td><td>106.0</td><td> 70</td><td>26.97</td><td>80</td><td> 77</td><td>0</td></tr>\n",
       "\t<tr><th scope=row>2</th><td>0</td><td>46</td><td>0</td><td>0</td><td> 0</td><td>0</td><td>0</td><td>0</td><td>0</td><td>250</td><td>121.0</td><td> 81</td><td>28.73</td><td>95</td><td> 76</td><td>0</td></tr>\n",
       "\t<tr><th scope=row>3</th><td>1</td><td>48</td><td>0</td><td>1</td><td>20</td><td>0</td><td>0</td><td>0</td><td>0</td><td>245</td><td>127.5</td><td> 80</td><td>25.34</td><td>75</td><td> 70</td><td>0</td></tr>\n",
       "\t<tr><th scope=row>4</th><td>0</td><td>61</td><td>1</td><td>1</td><td>30</td><td>0</td><td>0</td><td>1</td><td>0</td><td>225</td><td>150.0</td><td> 95</td><td>28.58</td><td>65</td><td>103</td><td>1</td></tr>\n",
       "\t<tr><th scope=row>5</th><td>0</td><td>46</td><td>1</td><td>1</td><td>23</td><td>0</td><td>0</td><td>0</td><td>0</td><td>285</td><td>130.0</td><td> 84</td><td>23.10</td><td>85</td><td> 85</td><td>0</td></tr>\n",
       "\t<tr><th scope=row>6</th><td>0</td><td>43</td><td>0</td><td>0</td><td> 0</td><td>0</td><td>0</td><td>1</td><td>0</td><td>228</td><td>180.0</td><td>110</td><td>30.30</td><td>77</td><td> 99</td><td>0</td></tr>\n",
       "</tbody>\n",
       "</table>\n"
      ],
      "text/latex": [
       "A data.frame: 6 × 16\n",
       "\\begin{tabular}{r|llllllllllllllll}\n",
       "  & male & age & education & currentSmoker & cigsPerDay & BPMeds & prevalentStroke & prevalentHyp & diabetes & totChol & sysBP & diaBP & BMI & heartRate & glucose & TenYearCHD\\\\\n",
       "  & <int> & <int> & <int> & <int> & <dbl> & <dbl> & <int> & <int> & <int> & <dbl> & <dbl> & <dbl> & <dbl> & <dbl> & <dbl> & <int>\\\\\n",
       "\\hline\n",
       "\t1 & 1 & 39 & 1 & 0 &  0 & 0 & 0 & 0 & 0 & 195 & 106.0 &  70 & 26.97 & 80 &  77 & 0\\\\\n",
       "\t2 & 0 & 46 & 0 & 0 &  0 & 0 & 0 & 0 & 0 & 250 & 121.0 &  81 & 28.73 & 95 &  76 & 0\\\\\n",
       "\t3 & 1 & 48 & 0 & 1 & 20 & 0 & 0 & 0 & 0 & 245 & 127.5 &  80 & 25.34 & 75 &  70 & 0\\\\\n",
       "\t4 & 0 & 61 & 1 & 1 & 30 & 0 & 0 & 1 & 0 & 225 & 150.0 &  95 & 28.58 & 65 & 103 & 1\\\\\n",
       "\t5 & 0 & 46 & 1 & 1 & 23 & 0 & 0 & 0 & 0 & 285 & 130.0 &  84 & 23.10 & 85 &  85 & 0\\\\\n",
       "\t6 & 0 & 43 & 0 & 0 &  0 & 0 & 0 & 1 & 0 & 228 & 180.0 & 110 & 30.30 & 77 &  99 & 0\\\\\n",
       "\\end{tabular}\n"
      ],
      "text/markdown": [
       "\n",
       "A data.frame: 6 × 16\n",
       "\n",
       "| <!--/--> | male &lt;int&gt; | age &lt;int&gt; | education &lt;int&gt; | currentSmoker &lt;int&gt; | cigsPerDay &lt;dbl&gt; | BPMeds &lt;dbl&gt; | prevalentStroke &lt;int&gt; | prevalentHyp &lt;int&gt; | diabetes &lt;int&gt; | totChol &lt;dbl&gt; | sysBP &lt;dbl&gt; | diaBP &lt;dbl&gt; | BMI &lt;dbl&gt; | heartRate &lt;dbl&gt; | glucose &lt;dbl&gt; | TenYearCHD &lt;int&gt; |\n",
       "|---|---|---|---|---|---|---|---|---|---|---|---|---|---|---|---|---|\n",
       "| 1 | 1 | 39 | 1 | 0 |  0 | 0 | 0 | 0 | 0 | 195 | 106.0 |  70 | 26.97 | 80 |  77 | 0 |\n",
       "| 2 | 0 | 46 | 0 | 0 |  0 | 0 | 0 | 0 | 0 | 250 | 121.0 |  81 | 28.73 | 95 |  76 | 0 |\n",
       "| 3 | 1 | 48 | 0 | 1 | 20 | 0 | 0 | 0 | 0 | 245 | 127.5 |  80 | 25.34 | 75 |  70 | 0 |\n",
       "| 4 | 0 | 61 | 1 | 1 | 30 | 0 | 0 | 1 | 0 | 225 | 150.0 |  95 | 28.58 | 65 | 103 | 1 |\n",
       "| 5 | 0 | 46 | 1 | 1 | 23 | 0 | 0 | 0 | 0 | 285 | 130.0 |  84 | 23.10 | 85 |  85 | 0 |\n",
       "| 6 | 0 | 43 | 0 | 0 |  0 | 0 | 0 | 1 | 0 | 228 | 180.0 | 110 | 30.30 | 77 |  99 | 0 |\n",
       "\n"
      ],
      "text/plain": [
       "  male age education currentSmoker cigsPerDay BPMeds prevalentStroke\n",
       "1 1    39  1         0              0         0      0              \n",
       "2 0    46  0         0              0         0      0              \n",
       "3 1    48  0         1             20         0      0              \n",
       "4 0    61  1         1             30         0      0              \n",
       "5 0    46  1         1             23         0      0              \n",
       "6 0    43  0         0              0         0      0              \n",
       "  prevalentHyp diabetes totChol sysBP diaBP BMI   heartRate glucose TenYearCHD\n",
       "1 0            0        195     106.0  70   26.97 80         77     0         \n",
       "2 0            0        250     121.0  81   28.73 95         76     0         \n",
       "3 0            0        245     127.5  80   25.34 75         70     0         \n",
       "4 1            0        225     150.0  95   28.58 65        103     1         \n",
       "5 0            0        285     130.0  84   23.10 85         85     0         \n",
       "6 1            0        228     180.0 110   30.30 77         99     0         "
      ]
     },
     "metadata": {},
     "output_type": "display_data"
    }
   ],
   "source": [
    "head(CHD)"
   ]
  },
  {
   "cell_type": "markdown",
   "metadata": {},
   "source": [
    "## <font color=blue> We are looking to find out how the categorical variables (IVs with two levels) influence the prevalence of a 10 year risk of heart disease (DV categorical two levels) </font>\n",
    "### - Stroke Prevalence \n",
    "### - Diabetes\n",
    "### - Hypertension Prevalence\n",
    "### - Current Smoker \n",
    "### - Gender\n",
    "### - Education\n",
    "### - BP Medication"
   ]
  },
  {
   "cell_type": "markdown",
   "metadata": {},
   "source": [
    "### Independent Chi Square: Stroke Prevalence"
   ]
  },
  {
   "cell_type": "code",
   "execution_count": 8,
   "metadata": {},
   "outputs": [
    {
     "name": "stderr",
     "output_type": "stream",
     "text": [
      "Warning message in chisq.test(t, correct = TRUE, ...):\n",
      "\"Chi-squared approximation may be incorrect\"\n",
      "Warning message in chisq.test(t, correct = FALSE, ...):\n",
      "\"Chi-squared approximation may be incorrect\"\n"
     ]
    },
    {
     "name": "stdout",
     "output_type": "stream",
     "text": [
      "\n",
      "   Cell Contents\n",
      "|-------------------------|\n",
      "|                   Count |\n",
      "|         Expected Values |\n",
      "| Chi-square contribution |\n",
      "|             Row Percent |\n",
      "|          Column Percent |\n",
      "|           Total Percent |\n",
      "|            Std Residual |\n",
      "|-------------------------|\n",
      "\n",
      "Total Observations in Table:  4133 \n",
      "\n",
      "                    | CHD$TenYearCHD \n",
      "CHD$prevalentStroke |        0  |        1  | Row Total | \n",
      "--------------------|-----------|-----------|-----------|\n",
      "                  0 |     3491  |      617  |     4108  | \n",
      "                    | 3483.799  |  624.201  |           | \n",
      "                    |    0.015  |    0.083  |           | \n",
      "                    |   84.981% |   15.019% |   99.395% | \n",
      "                    |   99.601% |   98.248% |           | \n",
      "                    |   84.466% |   14.929% |           | \n",
      "                    |    0.122  |   -0.288  |           | \n",
      "--------------------|-----------|-----------|-----------|\n",
      "                  1 |       14  |       11  |       25  | \n",
      "                    |   21.201  |    3.799  |           | \n",
      "                    |    2.446  |   13.652  |           | \n",
      "                    |   56.000% |   44.000% |    0.605% | \n",
      "                    |    0.399% |    1.752% |           | \n",
      "                    |    0.339% |    0.266% |           | \n",
      "                    |   -1.564  |    3.695  |           | \n",
      "--------------------|-----------|-----------|-----------|\n",
      "       Column Total |     3505  |      628  |     4133  | \n",
      "                    |   84.805% |   15.195% |           | \n",
      "--------------------|-----------|-----------|-----------|\n",
      "\n",
      " \n",
      "Statistics for All Table Factors\n",
      "\n",
      "\n",
      "Pearson's Chi-squared test \n",
      "------------------------------------------------------------\n",
      "Chi^2 =  16.19574     d.f. =  1     p =  5.712253e-05 \n",
      "\n",
      "Pearson's Chi-squared test with Yates' continuity correction \n",
      "------------------------------------------------------------\n",
      "Chi^2 =  14.02481     d.f. =  1     p =  0.0001804141 \n",
      "\n",
      " \n",
      "Fisher's Exact Test for Count Data\n",
      "------------------------------------------------------------\n",
      "Sample estimate odds ratio:  4.443425 \n",
      "\n",
      "Alternative hypothesis: true odds ratio is not equal to 1\n",
      "p =  0.000529863 \n",
      "95% confidence interval:  1.816217 10.58808 \n",
      "\n",
      "Alternative hypothesis: true odds ratio is less than 1\n",
      "p =  0.9998944 \n",
      "95% confidence interval:  0 9.321129 \n",
      "\n",
      "Alternative hypothesis: true odds ratio is greater than 1\n",
      "p =  0.000529863 \n",
      "95% confidence interval:  2.080723 Inf \n",
      "\n",
      "\n",
      " \n",
      "       Minimum expected frequency: 3.798693 \n",
      "Cells with Expected Frequency < 5: 1 of 4 (25%)\n",
      "\n"
     ]
    }
   ],
   "source": [
    "CrossTable(CHD$prevalentStroke, CHD$TenYearCHD, fisher=TRUE, chisq = TRUE, expected = TRUE, sresid=TRUE, format=\"SPSS\")"
   ]
  },
  {
   "cell_type": "markdown",
   "metadata": {},
   "source": [
    "#### <ins>Assumptions<ins>"
   ]
  },
  {
   "cell_type": "markdown",
   "metadata": {},
   "source": [
    "#### * Data is independent\n",
    "#### * All cells are > 5"
   ]
  },
  {
   "cell_type": "markdown",
   "metadata": {},
   "source": [
    "#### <ins>Results<ins> "
   ]
  },
  {
   "cell_type": "markdown",
   "metadata": {},
   "source": [
    "#### * p value is 5.712253e-05 so p < .05 and therefore significant\n",
    "#### * Stroke Prevalence does have a significant influence on a ten year risk of heart disease"
   ]
  },
  {
   "cell_type": "markdown",
   "metadata": {},
   "source": [
    "### * The standardized residuals are less than 2, so there is not a significant correlation between the variables? Which takes precidence the SDs or the p value Silvia??"
   ]
  },
  {
   "cell_type": "markdown",
   "metadata": {},
   "source": [
    "### Independent Chi Square: Diabetes"
   ]
  },
  {
   "cell_type": "code",
   "execution_count": 10,
   "metadata": {},
   "outputs": [
    {
     "name": "stdout",
     "output_type": "stream",
     "text": [
      "\n",
      "   Cell Contents\n",
      "|-------------------------|\n",
      "|                   Count |\n",
      "|         Expected Values |\n",
      "| Chi-square contribution |\n",
      "|             Row Percent |\n",
      "|          Column Percent |\n",
      "|           Total Percent |\n",
      "|            Std Residual |\n",
      "|-------------------------|\n",
      "\n",
      "Total Observations in Table:  4133 \n",
      "\n",
      "             | CHD$TenYearCHD \n",
      "CHD$diabetes |        0  |        1  | Row Total | \n",
      "-------------|-----------|-----------|-----------|\n",
      "           0 |     3438  |      589  |     4027  | \n",
      "             | 3415.106  |  611.894  |           | \n",
      "             |    0.153  |    0.857  |           | \n",
      "             |   85.374% |   14.626% |   97.435% | \n",
      "             |   98.088% |   93.790% |           | \n",
      "             |   83.184% |   14.251% |           | \n",
      "             |    0.392  |   -0.925  |           | \n",
      "-------------|-----------|-----------|-----------|\n",
      "           1 |       67  |       39  |      106  | \n",
      "             |   89.894  |   16.106  |           | \n",
      "             |    5.830  |   32.541  |           | \n",
      "             |   63.208% |   36.792% |    2.565% | \n",
      "             |    1.912% |    6.210% |           | \n",
      "             |    1.621% |    0.944% |           | \n",
      "             |   -2.415  |    5.704  |           | \n",
      "-------------|-----------|-----------|-----------|\n",
      "Column Total |     3505  |      628  |     4133  | \n",
      "             |   84.805% |   15.195% |           | \n",
      "-------------|-----------|-----------|-----------|\n",
      "\n",
      " \n",
      "Statistics for All Table Factors\n",
      "\n",
      "\n",
      "Pearson's Chi-squared test \n",
      "------------------------------------------------------------\n",
      "Chi^2 =  39.38102     d.f. =  1     p =  3.486698e-10 \n",
      "\n",
      "Pearson's Chi-squared test with Yates' continuity correction \n",
      "------------------------------------------------------------\n",
      "Chi^2 =  37.67962     d.f. =  1     p =  8.337091e-10 \n",
      "\n",
      " \n",
      "Fisher's Exact Test for Count Data\n",
      "------------------------------------------------------------\n",
      "Sample estimate odds ratio:  3.396249 \n",
      "\n",
      "Alternative hypothesis: true odds ratio is not equal to 1\n",
      "p =  2.589068e-08 \n",
      "95% confidence interval:  2.2056 5.168999 \n",
      "\n",
      "Alternative hypothesis: true odds ratio is less than 1\n",
      "p =  1 \n",
      "95% confidence interval:  0 4.852323 \n",
      "\n",
      "Alternative hypothesis: true odds ratio is greater than 1\n",
      "p =  2.589068e-08 \n",
      "95% confidence interval:  2.35963 Inf \n",
      "\n",
      "\n",
      " \n",
      "       Minimum expected frequency: 16.10646 \n",
      "\n"
     ]
    }
   ],
   "source": [
    "CrossTable(CHD$diabetes, CHD$TenYearCHD, fisher=TRUE, chisq = TRUE, expected = TRUE, sresid=TRUE, format=\"SPSS\")"
   ]
  },
  {
   "cell_type": "markdown",
   "metadata": {},
   "source": [
    "#### <ins>Assumptions<ins>"
   ]
  },
  {
   "cell_type": "markdown",
   "metadata": {},
   "source": [
    "#### * Data is independent\n",
    "#### * All cells are > 5"
   ]
  },
  {
   "cell_type": "markdown",
   "metadata": {},
   "source": [
    "#### <ins>Results<ins>"
   ]
  },
  {
   "cell_type": "markdown",
   "metadata": {},
   "source": [
    "#### * p value is 3.486698e-10, p < .05 therefore signficant"
   ]
  },
  {
   "cell_type": "code",
   "execution_count": null,
   "metadata": {},
   "outputs": [],
   "source": []
  },
  {
   "cell_type": "markdown",
   "metadata": {},
   "source": [
    "### Independent Chi Square: Hypertension Prevalence"
   ]
  },
  {
   "cell_type": "code",
   "execution_count": 11,
   "metadata": {},
   "outputs": [
    {
     "name": "stdout",
     "output_type": "stream",
     "text": [
      "\n",
      "   Cell Contents\n",
      "|-------------------------|\n",
      "|                   Count |\n",
      "|         Expected Values |\n",
      "| Chi-square contribution |\n",
      "|             Row Percent |\n",
      "|          Column Percent |\n",
      "|           Total Percent |\n",
      "|            Std Residual |\n",
      "|-------------------------|\n",
      "\n",
      "Total Observations in Table:  4133 \n",
      "\n",
      "                 | CHD$TenYearCHD \n",
      "CHD$prevalentHyp |        0  |        1  | Row Total | \n",
      "-----------------|-----------|-----------|-----------|\n",
      "               0 |     2538  |      309  |     2847  | \n",
      "                 | 2414.405  |  432.595  |           | \n",
      "                 |    6.327  |   35.312  |           | \n",
      "                 |   89.146% |   10.854% |   68.885% | \n",
      "                 |   72.411% |   49.204% |           | \n",
      "                 |   61.408% |    7.476% |           | \n",
      "                 |    2.515  |   -5.942  |           | \n",
      "-----------------|-----------|-----------|-----------|\n",
      "               1 |      967  |      319  |     1286  | \n",
      "                 | 1090.595  |  195.405  |           | \n",
      "                 |   14.007  |   78.175  |           | \n",
      "                 |   75.194% |   24.806% |   31.115% | \n",
      "                 |   27.589% |   50.796% |           | \n",
      "                 |   23.397% |    7.718% |           | \n",
      "                 |   -3.743  |    8.842  |           | \n",
      "-----------------|-----------|-----------|-----------|\n",
      "    Column Total |     3505  |      628  |     4133  | \n",
      "                 |   84.805% |   15.195% |           | \n",
      "-----------------|-----------|-----------|-----------|\n",
      "\n",
      " \n",
      "Statistics for All Table Factors\n",
      "\n",
      "\n",
      "Pearson's Chi-squared test \n",
      "------------------------------------------------------------\n",
      "Chi^2 =  133.8207     d.f. =  1     p =  5.979841e-31 \n",
      "\n",
      "Pearson's Chi-squared test with Yates' continuity correction \n",
      "------------------------------------------------------------\n",
      "Chi^2 =  132.7402     d.f. =  1     p =  1.030533e-30 \n",
      "\n",
      " \n",
      "Fisher's Exact Test for Count Data\n",
      "------------------------------------------------------------\n",
      "Sample estimate odds ratio:  2.708818 \n",
      "\n",
      "Alternative hypothesis: true odds ratio is not equal to 1\n",
      "p =  3.893475e-29 \n",
      "95% confidence interval:  2.269685 3.233486 \n",
      "\n",
      "Alternative hypothesis: true odds ratio is less than 1\n",
      "p =  1 \n",
      "95% confidence interval:  0 3.144494 \n",
      "\n",
      "Alternative hypothesis: true odds ratio is greater than 1\n",
      "p =  3.080622e-29 \n",
      "95% confidence interval:  2.33372 Inf \n",
      "\n",
      "\n",
      " \n",
      "       Minimum expected frequency: 195.4048 \n",
      "\n"
     ]
    }
   ],
   "source": [
    "CrossTable(CHD$prevalentHyp, CHD$TenYearCHD, fisher=TRUE, chisq = TRUE, expected = TRUE, sresid=TRUE, format=\"SPSS\")"
   ]
  },
  {
   "cell_type": "markdown",
   "metadata": {},
   "source": [
    "#### <ins>Assumptions<ins>"
   ]
  },
  {
   "cell_type": "markdown",
   "metadata": {},
   "source": [
    "#### * Data is independent\n",
    "#### * All cells are > 5"
   ]
  },
  {
   "cell_type": "markdown",
   "metadata": {},
   "source": [
    "#### <ins>Results<ins>"
   ]
  },
  {
   "cell_type": "markdown",
   "metadata": {},
   "source": [
    "#### * p value is 5.979841e-31, p < .05 therefore significant"
   ]
  },
  {
   "cell_type": "code",
   "execution_count": null,
   "metadata": {},
   "outputs": [],
   "source": []
  },
  {
   "cell_type": "markdown",
   "metadata": {},
   "source": [
    "### Independent Chi Square: Current Smoker"
   ]
  },
  {
   "cell_type": "code",
   "execution_count": 12,
   "metadata": {},
   "outputs": [
    {
     "name": "stdout",
     "output_type": "stream",
     "text": [
      "\n",
      "   Cell Contents\n",
      "|-------------------------|\n",
      "|                   Count |\n",
      "|         Expected Values |\n",
      "| Chi-square contribution |\n",
      "|             Row Percent |\n",
      "|          Column Percent |\n",
      "|           Total Percent |\n",
      "|            Std Residual |\n",
      "|-------------------------|\n",
      "\n",
      "Total Observations in Table:  4133 \n",
      "\n",
      "                  | CHD$TenYearCHD \n",
      "CHD$currentSmoker |        0  |        1  | Row Total | \n",
      "------------------|-----------|-----------|-----------|\n",
      "                0 |     1783  |      305  |     2088  | \n",
      "                  | 1770.733  |  317.267  |           | \n",
      "                  |    0.085  |    0.474  |           | \n",
      "                  |   85.393% |   14.607% |   50.520% | \n",
      "                  |   50.870% |   48.567% |           | \n",
      "                  |   43.141% |    7.380% |           | \n",
      "                  |    0.292  |   -0.689  |           | \n",
      "------------------|-----------|-----------|-----------|\n",
      "                1 |     1722  |      323  |     2045  | \n",
      "                  | 1734.267  |  310.733  |           | \n",
      "                  |    0.087  |    0.484  |           | \n",
      "                  |   84.205% |   15.795% |   49.480% | \n",
      "                  |   49.130% |   51.433% |           | \n",
      "                  |   41.665% |    7.815% |           | \n",
      "                  |   -0.295  |    0.696  |           | \n",
      "------------------|-----------|-----------|-----------|\n",
      "     Column Total |     3505  |      628  |     4133  | \n",
      "                  |   84.805% |   15.195% |           | \n",
      "------------------|-----------|-----------|-----------|\n",
      "\n",
      " \n",
      "Statistics for All Table Factors\n",
      "\n",
      "\n",
      "Pearson's Chi-squared test \n",
      "------------------------------------------------------------\n",
      "Chi^2 =  1.130297     d.f. =  1     p =  0.2877119 \n",
      "\n",
      "Pearson's Chi-squared test with Yates' continuity correction \n",
      "------------------------------------------------------------\n",
      "Chi^2 =  1.040033     d.f. =  1     p =  0.3078138 \n",
      "\n",
      " \n",
      "Fisher's Exact Test for Count Data\n",
      "------------------------------------------------------------\n",
      "Sample estimate odds ratio:  1.096506 \n",
      "\n",
      "Alternative hypothesis: true odds ratio is not equal to 1\n",
      "p =  0.2984214 \n",
      "95% confidence interval:  0.921782 1.304548 \n",
      "\n",
      "Alternative hypothesis: true odds ratio is less than 1\n",
      "p =  0.8657425 \n",
      "95% confidence interval:  0 1.269322 \n",
      "\n",
      "Alternative hypothesis: true odds ratio is greater than 1\n",
      "p =  0.153907 \n",
      "95% confidence interval:  0.9472974 Inf \n",
      "\n",
      "\n",
      " \n",
      "       Minimum expected frequency: 310.7331 \n",
      "\n"
     ]
    }
   ],
   "source": [
    "CrossTable(CHD$currentSmoker, CHD$TenYearCHD, fisher=TRUE, chisq = TRUE, expected = TRUE, sresid=TRUE, format=\"SPSS\")"
   ]
  },
  {
   "cell_type": "markdown",
   "metadata": {},
   "source": [
    "#### <ins>Assumptions<ins>"
   ]
  },
  {
   "cell_type": "markdown",
   "metadata": {},
   "source": [
    "#### * Data is independent\n",
    "#### * All cells are > 5"
   ]
  },
  {
   "cell_type": "markdown",
   "metadata": {},
   "source": [
    "#### <ins>Results<ins>"
   ]
  },
  {
   "cell_type": "markdown",
   "metadata": {},
   "source": [
    "#### * p value is 0.2877119, p > .05 therefore not significant. \n",
    "#### * Please note that this data is not displaying the scientifically proven truths about smoking being detrimental to a person's health. \n"
   ]
  },
  {
   "cell_type": "code",
   "execution_count": null,
   "metadata": {},
   "outputs": [],
   "source": []
  },
  {
   "cell_type": "markdown",
   "metadata": {},
   "source": [
    "### Independent Chi Square: Gender"
   ]
  },
  {
   "cell_type": "code",
   "execution_count": 13,
   "metadata": {},
   "outputs": [
    {
     "name": "stdout",
     "output_type": "stream",
     "text": [
      "\n",
      "   Cell Contents\n",
      "|-------------------------|\n",
      "|                   Count |\n",
      "|         Expected Values |\n",
      "| Chi-square contribution |\n",
      "|             Row Percent |\n",
      "|          Column Percent |\n",
      "|           Total Percent |\n",
      "|            Std Residual |\n",
      "|-------------------------|\n",
      "\n",
      "Total Observations in Table:  4133 \n",
      "\n",
      "             | CHD$TenYearCHD \n",
      "    CHD$male |        0  |        1  | Row Total | \n",
      "-------------|-----------|-----------|-----------|\n",
      "           0 |     2069  |      298  |     2367  | \n",
      "             | 2007.340  |  359.660  |           | \n",
      "             |    1.894  |   10.571  |           | \n",
      "             |   87.410% |   12.590% |   57.271% | \n",
      "             |   59.030% |   47.452% |           | \n",
      "             |   50.060% |    7.210% |           | \n",
      "             |    1.376  |   -3.251  |           | \n",
      "-------------|-----------|-----------|-----------|\n",
      "           1 |     1436  |      330  |     1766  | \n",
      "             | 1497.660  |  268.340  |           | \n",
      "             |    2.539  |   14.169  |           | \n",
      "             |   81.314% |   18.686% |   42.729% | \n",
      "             |   40.970% |   52.548% |           | \n",
      "             |   34.745% |    7.985% |           | \n",
      "             |   -1.593  |    3.764  |           | \n",
      "-------------|-----------|-----------|-----------|\n",
      "Column Total |     3505  |      628  |     4133  | \n",
      "             |   84.805% |   15.195% |           | \n",
      "-------------|-----------|-----------|-----------|\n",
      "\n",
      " \n",
      "Statistics for All Table Factors\n",
      "\n",
      "\n",
      "Pearson's Chi-squared test \n",
      "------------------------------------------------------------\n",
      "Chi^2 =  29.17231     d.f. =  1     p =  6.62189e-08 \n",
      "\n",
      "Pearson's Chi-squared test with Yates' continuity correction \n",
      "------------------------------------------------------------\n",
      "Chi^2 =  28.70111     d.f. =  1     p =  8.445518e-08 \n",
      "\n",
      " \n",
      "Fisher's Exact Test for Count Data\n",
      "------------------------------------------------------------\n",
      "Sample estimate odds ratio:  1.595295 \n",
      "\n",
      "Alternative hypothesis: true odds ratio is not equal to 1\n",
      "p =  8.484286e-08 \n",
      "95% confidence interval:  1.340505 1.899282 \n",
      "\n",
      "Alternative hypothesis: true odds ratio is less than 1\n",
      "p =  1 \n",
      "95% confidence interval:  0 1.847726 \n",
      "\n",
      "Alternative hypothesis: true odds ratio is greater than 1\n",
      "p =  4.882328e-08 \n",
      "95% confidence interval:  1.377634 Inf \n",
      "\n",
      "\n",
      " \n",
      "       Minimum expected frequency: 268.3397 \n",
      "\n"
     ]
    }
   ],
   "source": [
    " CrossTable(CHD$male, CHD$TenYearCHD, fisher=TRUE, chisq = TRUE, expected = TRUE, sresid=TRUE, format=\"SPSS\")"
   ]
  },
  {
   "cell_type": "markdown",
   "metadata": {},
   "source": [
    "#### <ins>Assumptions<ins>"
   ]
  },
  {
   "cell_type": "markdown",
   "metadata": {},
   "source": [
    "#### * Data is independent\n",
    "#### * All cells are > 5"
   ]
  },
  {
   "cell_type": "markdown",
   "metadata": {},
   "source": [
    "#### <ins>Results<ins>"
   ]
  },
  {
   "cell_type": "markdown",
   "metadata": {},
   "source": [
    "#### * p value is 6.62189e-08, p <.05 therefore significant \n"
   ]
  },
  {
   "cell_type": "markdown",
   "metadata": {},
   "source": [
    "#### * In this data, more men had a ten year risk for heart disease than expected, while less women had a ten year risk of heart disease than expected.\n",
    "#### * The SD residual for males ten year risk of heart disease was 3.764 which is greater than 2, indicating a signficant result\n"
   ]
  },
  {
   "cell_type": "markdown",
   "metadata": {},
   "source": [
    "### Independent Chi Square: Education"
   ]
  },
  {
   "cell_type": "code",
   "execution_count": 14,
   "metadata": {},
   "outputs": [
    {
     "name": "stdout",
     "output_type": "stream",
     "text": [
      "\n",
      "   Cell Contents\n",
      "|-------------------------|\n",
      "|                   Count |\n",
      "|         Expected Values |\n",
      "| Chi-square contribution |\n",
      "|             Row Percent |\n",
      "|          Column Percent |\n",
      "|           Total Percent |\n",
      "|            Std Residual |\n",
      "|-------------------------|\n",
      "\n",
      "Total Observations in Table:  4133 \n",
      "\n",
      "              | CHD$TenYearCHD \n",
      "CHD$education |        0  |        1  | Row Total | \n",
      "--------------|-----------|-----------|-----------|\n",
      "            0 |     2503  |      470  |     2973  | \n",
      "              | 2521.259  |  451.741  |           | \n",
      "              |    0.132  |    0.738  |           | \n",
      "              |   84.191% |   15.809% |   71.933% | \n",
      "              |   71.412% |   74.841% |           | \n",
      "              |   60.561% |   11.372% |           | \n",
      "              |   -0.364  |    0.859  |           | \n",
      "--------------|-----------|-----------|-----------|\n",
      "            1 |     1002  |      158  |     1160  | \n",
      "              |  983.741  |  176.259  |           | \n",
      "              |    0.339  |    1.892  |           | \n",
      "              |   86.379% |   13.621% |   28.067% | \n",
      "              |   28.588% |   25.159% |           | \n",
      "              |   24.244% |    3.823% |           | \n",
      "              |    0.582  |   -1.375  |           | \n",
      "--------------|-----------|-----------|-----------|\n",
      " Column Total |     3505  |      628  |     4133  | \n",
      "              |   84.805% |   15.195% |           | \n",
      "--------------|-----------|-----------|-----------|\n",
      "\n",
      " \n",
      "Statistics for All Table Factors\n",
      "\n",
      "\n",
      "Pearson's Chi-squared test \n",
      "------------------------------------------------------------\n",
      "Chi^2 =  3.100755     d.f. =  1     p =  0.07825598 \n",
      "\n",
      "Pearson's Chi-squared test with Yates' continuity correction \n",
      "------------------------------------------------------------\n",
      "Chi^2 =  2.933263     d.f. =  1     p =  0.08677194 \n",
      "\n",
      " \n",
      "Fisher's Exact Test for Count Data\n",
      "------------------------------------------------------------\n",
      "Sample estimate odds ratio:  0.839766 \n",
      "\n",
      "Alternative hypothesis: true odds ratio is not equal to 1\n",
      "p =  0.0825623 \n",
      "95% confidence interval:  0.6866531 1.023298 \n",
      "\n",
      "Alternative hypothesis: true odds ratio is less than 1\n",
      "p =  0.04245861 \n",
      "95% confidence interval:  0 0.9924646 \n",
      "\n",
      "Alternative hypothesis: true odds ratio is greater than 1\n",
      "p =  0.9657042 \n",
      "95% confidence interval:  0.7089935 Inf \n",
      "\n",
      "\n",
      " \n",
      "       Minimum expected frequency: 176.2594 \n",
      "\n"
     ]
    }
   ],
   "source": [
    " CrossTable(CHD$education, CHD$TenYearCHD, fisher=TRUE, chisq = TRUE, expected = TRUE, sresid=TRUE, format=\"SPSS\")"
   ]
  },
  {
   "cell_type": "markdown",
   "metadata": {},
   "source": [
    "#### <ins>Assumptions<ins>"
   ]
  },
  {
   "cell_type": "markdown",
   "metadata": {},
   "source": [
    "#### * Data is independent\n",
    "#### * All cells are > 5"
   ]
  },
  {
   "cell_type": "markdown",
   "metadata": {},
   "source": [
    "#### <ins>Results<ins>"
   ]
  },
  {
   "cell_type": "markdown",
   "metadata": {},
   "source": [
    "#### * p value is 0.07825598, p > .05 not showing a significant result\n",
    "#### * all the standardized residuals are lower than 2 confirming result is not significant \n",
    "#### * From this data, education is not a significant influcence on the 10 year risk of heart disease"
   ]
  },
  {
   "cell_type": "markdown",
   "metadata": {},
   "source": [
    "### Trying this: Independent Chi Square:Medication for Blood Pressure"
   ]
  },
  {
   "cell_type": "code",
   "execution_count": 19,
   "metadata": {},
   "outputs": [
    {
     "name": "stdout",
     "output_type": "stream",
     "text": [
      "\n",
      "   Cell Contents\n",
      "|-------------------------|\n",
      "|                   Count |\n",
      "|         Expected Values |\n",
      "| Chi-square contribution |\n",
      "|             Row Percent |\n",
      "|          Column Percent |\n",
      "|           Total Percent |\n",
      "|            Std Residual |\n",
      "|-------------------------|\n",
      "\n",
      "Total Observations in Table:  4133 \n",
      "\n",
      "             | CHD$TenYearCHD \n",
      "  CHD$BPMeds |        0  |        1  | Row Total | \n",
      "-------------|-----------|-----------|-----------|\n",
      "           0 |     3410  |      581  |     3991  | \n",
      "             | 3384.577  |  606.423  |           | \n",
      "             |    0.191  |    1.066  |           | \n",
      "             |   85.442% |   14.558% |   96.564% | \n",
      "             |   97.290% |   92.516% |           | \n",
      "             |   82.507% |   14.058% |           | \n",
      "             |    0.437  |   -1.032  |           | \n",
      "-------------|-----------|-----------|-----------|\n",
      "           1 |       95  |       47  |      142  | \n",
      "             |  120.423  |   21.577  |           | \n",
      "             |    5.367  |   29.956  |           | \n",
      "             |   66.901% |   33.099% |    3.436% | \n",
      "             |    2.710% |    7.484% |           | \n",
      "             |    2.299% |    1.137% |           | \n",
      "             |   -2.317  |    5.473  |           | \n",
      "-------------|-----------|-----------|-----------|\n",
      "Column Total |     3505  |      628  |     4133  | \n",
      "             |   84.805% |   15.195% |           | \n",
      "-------------|-----------|-----------|-----------|\n",
      "\n",
      " \n",
      "Statistics for All Table Factors\n",
      "\n",
      "\n",
      "Pearson's Chi-squared test \n",
      "------------------------------------------------------------\n",
      "Chi^2 =  36.58023     d.f. =  1     p =  1.465099e-09 \n",
      "\n",
      "Pearson's Chi-squared test with Yates' continuity correction \n",
      "------------------------------------------------------------\n",
      "Chi^2 =  35.15554     d.f. =  1     p =  3.04394e-09 \n",
      "\n",
      " \n",
      "Fisher's Exact Test for Count Data\n",
      "------------------------------------------------------------\n",
      "Sample estimate odds ratio:  2.902686 \n",
      "\n",
      "Alternative hypothesis: true odds ratio is not equal to 1\n",
      "p =  6.19936e-08 \n",
      "95% confidence interval:  1.978755 4.210214 \n",
      "\n",
      "Alternative hypothesis: true odds ratio is less than 1\n",
      "p =  1 \n",
      "95% confidence interval:  0 3.979967 \n",
      "\n",
      "Alternative hypothesis: true odds ratio is greater than 1\n",
      "p =  4.548952e-08 \n",
      "95% confidence interval:  2.101718 Inf \n",
      "\n",
      "\n",
      " \n",
      "       Minimum expected frequency: 21.57658 \n",
      "\n"
     ]
    }
   ],
   "source": [
    " CrossTable(CHD$BPMeds, CHD$TenYearCHD, fisher=TRUE, chisq = TRUE, expected = TRUE, sresid=TRUE, format=\"SPSS\")"
   ]
  },
  {
   "cell_type": "markdown",
   "metadata": {},
   "source": [
    "#### <ins>Assumptions<ins>"
   ]
  },
  {
   "cell_type": "markdown",
   "metadata": {},
   "source": [
    "#### * Data is independent\n",
    "#### * All cells are > 5"
   ]
  },
  {
   "cell_type": "markdown",
   "metadata": {},
   "source": [
    "#### <ins>Results<ins>"
   ]
  },
  {
   "cell_type": "markdown",
   "metadata": {},
   "source": [
    "#### * p value is 1.465099e-09, p < .05 and therefore significant\n",
    "#### * This data shows that a person on blood pressure medication was less likely to have a ten year risk of heart disease\n",
    "####### * This is an interpretation on the data not medical advice, if you are concerned about your blood pressure or about medication please speak to a licensed medical professional-MP\n"
   ]
  },
  {
   "cell_type": "markdown",
   "metadata": {},
   "source": [
    "## <font color=blue>Looking at How the continuous IVs affect the risk of heart disease by Stepwise Binary Logistic Regression</font>:\n",
    "### - Number of Cigarettes per day\n",
    "### - Age\n",
    "### - Total Cholesterol\n",
    "### - BMI\n",
    "### - sysBP\n",
    "### - diaBP\n",
    "### - Heartrate\n",
    "### - Glucose"
   ]
  },
  {
   "cell_type": "markdown",
   "metadata": {},
   "source": [
    "### <ins>Data Wrangling<ins> \n",
    "#### - DV is already numerically coded 0 and 1 so no recode necessary\n",
    "#### Subsetting Data for the IVs:"
   ]
  },
  {
   "cell_type": "code",
   "execution_count": 15,
   "metadata": {},
   "outputs": [
    {
     "data": {
      "text/html": [
       "<table class=\"dataframe\">\n",
       "<caption>A data.frame: 6 × 16</caption>\n",
       "<thead>\n",
       "\t<tr><th></th><th scope=col>male</th><th scope=col>age</th><th scope=col>education</th><th scope=col>currentSmoker</th><th scope=col>cigsPerDay</th><th scope=col>BPMeds</th><th scope=col>prevalentStroke</th><th scope=col>prevalentHyp</th><th scope=col>diabetes</th><th scope=col>totChol</th><th scope=col>sysBP</th><th scope=col>diaBP</th><th scope=col>BMI</th><th scope=col>heartRate</th><th scope=col>glucose</th><th scope=col>TenYearCHD</th></tr>\n",
       "\t<tr><th></th><th scope=col>&lt;int&gt;</th><th scope=col>&lt;int&gt;</th><th scope=col>&lt;int&gt;</th><th scope=col>&lt;int&gt;</th><th scope=col>&lt;dbl&gt;</th><th scope=col>&lt;dbl&gt;</th><th scope=col>&lt;int&gt;</th><th scope=col>&lt;int&gt;</th><th scope=col>&lt;int&gt;</th><th scope=col>&lt;dbl&gt;</th><th scope=col>&lt;dbl&gt;</th><th scope=col>&lt;dbl&gt;</th><th scope=col>&lt;dbl&gt;</th><th scope=col>&lt;dbl&gt;</th><th scope=col>&lt;dbl&gt;</th><th scope=col>&lt;int&gt;</th></tr>\n",
       "</thead>\n",
       "<tbody>\n",
       "\t<tr><th scope=row>1</th><td>1</td><td>39</td><td>1</td><td>0</td><td> 0</td><td>0</td><td>0</td><td>0</td><td>0</td><td>195</td><td>106.0</td><td> 70</td><td>26.97</td><td>80</td><td> 77</td><td>0</td></tr>\n",
       "\t<tr><th scope=row>2</th><td>0</td><td>46</td><td>0</td><td>0</td><td> 0</td><td>0</td><td>0</td><td>0</td><td>0</td><td>250</td><td>121.0</td><td> 81</td><td>28.73</td><td>95</td><td> 76</td><td>0</td></tr>\n",
       "\t<tr><th scope=row>3</th><td>1</td><td>48</td><td>0</td><td>1</td><td>20</td><td>0</td><td>0</td><td>0</td><td>0</td><td>245</td><td>127.5</td><td> 80</td><td>25.34</td><td>75</td><td> 70</td><td>0</td></tr>\n",
       "\t<tr><th scope=row>4</th><td>0</td><td>61</td><td>1</td><td>1</td><td>30</td><td>0</td><td>0</td><td>1</td><td>0</td><td>225</td><td>150.0</td><td> 95</td><td>28.58</td><td>65</td><td>103</td><td>1</td></tr>\n",
       "\t<tr><th scope=row>5</th><td>0</td><td>46</td><td>1</td><td>1</td><td>23</td><td>0</td><td>0</td><td>0</td><td>0</td><td>285</td><td>130.0</td><td> 84</td><td>23.10</td><td>85</td><td> 85</td><td>0</td></tr>\n",
       "\t<tr><th scope=row>6</th><td>0</td><td>43</td><td>0</td><td>0</td><td> 0</td><td>0</td><td>0</td><td>1</td><td>0</td><td>228</td><td>180.0</td><td>110</td><td>30.30</td><td>77</td><td> 99</td><td>0</td></tr>\n",
       "</tbody>\n",
       "</table>\n"
      ],
      "text/latex": [
       "A data.frame: 6 × 16\n",
       "\\begin{tabular}{r|llllllllllllllll}\n",
       "  & male & age & education & currentSmoker & cigsPerDay & BPMeds & prevalentStroke & prevalentHyp & diabetes & totChol & sysBP & diaBP & BMI & heartRate & glucose & TenYearCHD\\\\\n",
       "  & <int> & <int> & <int> & <int> & <dbl> & <dbl> & <int> & <int> & <int> & <dbl> & <dbl> & <dbl> & <dbl> & <dbl> & <dbl> & <int>\\\\\n",
       "\\hline\n",
       "\t1 & 1 & 39 & 1 & 0 &  0 & 0 & 0 & 0 & 0 & 195 & 106.0 &  70 & 26.97 & 80 &  77 & 0\\\\\n",
       "\t2 & 0 & 46 & 0 & 0 &  0 & 0 & 0 & 0 & 0 & 250 & 121.0 &  81 & 28.73 & 95 &  76 & 0\\\\\n",
       "\t3 & 1 & 48 & 0 & 1 & 20 & 0 & 0 & 0 & 0 & 245 & 127.5 &  80 & 25.34 & 75 &  70 & 0\\\\\n",
       "\t4 & 0 & 61 & 1 & 1 & 30 & 0 & 0 & 1 & 0 & 225 & 150.0 &  95 & 28.58 & 65 & 103 & 1\\\\\n",
       "\t5 & 0 & 46 & 1 & 1 & 23 & 0 & 0 & 0 & 0 & 285 & 130.0 &  84 & 23.10 & 85 &  85 & 0\\\\\n",
       "\t6 & 0 & 43 & 0 & 0 &  0 & 0 & 0 & 1 & 0 & 228 & 180.0 & 110 & 30.30 & 77 &  99 & 0\\\\\n",
       "\\end{tabular}\n"
      ],
      "text/markdown": [
       "\n",
       "A data.frame: 6 × 16\n",
       "\n",
       "| <!--/--> | male &lt;int&gt; | age &lt;int&gt; | education &lt;int&gt; | currentSmoker &lt;int&gt; | cigsPerDay &lt;dbl&gt; | BPMeds &lt;dbl&gt; | prevalentStroke &lt;int&gt; | prevalentHyp &lt;int&gt; | diabetes &lt;int&gt; | totChol &lt;dbl&gt; | sysBP &lt;dbl&gt; | diaBP &lt;dbl&gt; | BMI &lt;dbl&gt; | heartRate &lt;dbl&gt; | glucose &lt;dbl&gt; | TenYearCHD &lt;int&gt; |\n",
       "|---|---|---|---|---|---|---|---|---|---|---|---|---|---|---|---|---|\n",
       "| 1 | 1 | 39 | 1 | 0 |  0 | 0 | 0 | 0 | 0 | 195 | 106.0 |  70 | 26.97 | 80 |  77 | 0 |\n",
       "| 2 | 0 | 46 | 0 | 0 |  0 | 0 | 0 | 0 | 0 | 250 | 121.0 |  81 | 28.73 | 95 |  76 | 0 |\n",
       "| 3 | 1 | 48 | 0 | 1 | 20 | 0 | 0 | 0 | 0 | 245 | 127.5 |  80 | 25.34 | 75 |  70 | 0 |\n",
       "| 4 | 0 | 61 | 1 | 1 | 30 | 0 | 0 | 1 | 0 | 225 | 150.0 |  95 | 28.58 | 65 | 103 | 1 |\n",
       "| 5 | 0 | 46 | 1 | 1 | 23 | 0 | 0 | 0 | 0 | 285 | 130.0 |  84 | 23.10 | 85 |  85 | 0 |\n",
       "| 6 | 0 | 43 | 0 | 0 |  0 | 0 | 0 | 1 | 0 | 228 | 180.0 | 110 | 30.30 | 77 |  99 | 0 |\n",
       "\n"
      ],
      "text/plain": [
       "  male age education currentSmoker cigsPerDay BPMeds prevalentStroke\n",
       "1 1    39  1         0              0         0      0              \n",
       "2 0    46  0         0              0         0      0              \n",
       "3 1    48  0         1             20         0      0              \n",
       "4 0    61  1         1             30         0      0              \n",
       "5 0    46  1         1             23         0      0              \n",
       "6 0    43  0         0              0         0      0              \n",
       "  prevalentHyp diabetes totChol sysBP diaBP BMI   heartRate glucose TenYearCHD\n",
       "1 0            0        195     106.0  70   26.97 80         77     0         \n",
       "2 0            0        250     121.0  81   28.73 95         76     0         \n",
       "3 0            0        245     127.5  80   25.34 75         70     0         \n",
       "4 1            0        225     150.0  95   28.58 65        103     1         \n",
       "5 0            0        285     130.0  84   23.10 85         85     0         \n",
       "6 1            0        228     180.0 110   30.30 77         99     0         "
      ]
     },
     "metadata": {},
     "output_type": "display_data"
    }
   ],
   "source": [
    "head(CHD)"
   ]
  },
  {
   "cell_type": "code",
   "execution_count": 17,
   "metadata": {},
   "outputs": [],
   "source": [
    "keeps <- c(\"age\", \"cigsPerDay\", \"totChol\", \"sysBP\", \"diaBP\", \"BMI\", \"heartRate\", \"glucose\", \"TenYearCHD\")\n",
    "CHDrisk = CHD[keeps]"
   ]
  },
  {
   "cell_type": "code",
   "execution_count": 18,
   "metadata": {},
   "outputs": [
    {
     "data": {
      "text/html": [
       "<table class=\"dataframe\">\n",
       "<caption>A data.frame: 6 × 9</caption>\n",
       "<thead>\n",
       "\t<tr><th></th><th scope=col>age</th><th scope=col>cigsPerDay</th><th scope=col>totChol</th><th scope=col>sysBP</th><th scope=col>diaBP</th><th scope=col>BMI</th><th scope=col>heartRate</th><th scope=col>glucose</th><th scope=col>TenYearCHD</th></tr>\n",
       "\t<tr><th></th><th scope=col>&lt;int&gt;</th><th scope=col>&lt;dbl&gt;</th><th scope=col>&lt;dbl&gt;</th><th scope=col>&lt;dbl&gt;</th><th scope=col>&lt;dbl&gt;</th><th scope=col>&lt;dbl&gt;</th><th scope=col>&lt;dbl&gt;</th><th scope=col>&lt;dbl&gt;</th><th scope=col>&lt;int&gt;</th></tr>\n",
       "</thead>\n",
       "<tbody>\n",
       "\t<tr><th scope=row>1</th><td>39</td><td> 0</td><td>195</td><td>106.0</td><td> 70</td><td>26.97</td><td>80</td><td> 77</td><td>0</td></tr>\n",
       "\t<tr><th scope=row>2</th><td>46</td><td> 0</td><td>250</td><td>121.0</td><td> 81</td><td>28.73</td><td>95</td><td> 76</td><td>0</td></tr>\n",
       "\t<tr><th scope=row>3</th><td>48</td><td>20</td><td>245</td><td>127.5</td><td> 80</td><td>25.34</td><td>75</td><td> 70</td><td>0</td></tr>\n",
       "\t<tr><th scope=row>4</th><td>61</td><td>30</td><td>225</td><td>150.0</td><td> 95</td><td>28.58</td><td>65</td><td>103</td><td>1</td></tr>\n",
       "\t<tr><th scope=row>5</th><td>46</td><td>23</td><td>285</td><td>130.0</td><td> 84</td><td>23.10</td><td>85</td><td> 85</td><td>0</td></tr>\n",
       "\t<tr><th scope=row>6</th><td>43</td><td> 0</td><td>228</td><td>180.0</td><td>110</td><td>30.30</td><td>77</td><td> 99</td><td>0</td></tr>\n",
       "</tbody>\n",
       "</table>\n"
      ],
      "text/latex": [
       "A data.frame: 6 × 9\n",
       "\\begin{tabular}{r|lllllllll}\n",
       "  & age & cigsPerDay & totChol & sysBP & diaBP & BMI & heartRate & glucose & TenYearCHD\\\\\n",
       "  & <int> & <dbl> & <dbl> & <dbl> & <dbl> & <dbl> & <dbl> & <dbl> & <int>\\\\\n",
       "\\hline\n",
       "\t1 & 39 &  0 & 195 & 106.0 &  70 & 26.97 & 80 &  77 & 0\\\\\n",
       "\t2 & 46 &  0 & 250 & 121.0 &  81 & 28.73 & 95 &  76 & 0\\\\\n",
       "\t3 & 48 & 20 & 245 & 127.5 &  80 & 25.34 & 75 &  70 & 0\\\\\n",
       "\t4 & 61 & 30 & 225 & 150.0 &  95 & 28.58 & 65 & 103 & 1\\\\\n",
       "\t5 & 46 & 23 & 285 & 130.0 &  84 & 23.10 & 85 &  85 & 0\\\\\n",
       "\t6 & 43 &  0 & 228 & 180.0 & 110 & 30.30 & 77 &  99 & 0\\\\\n",
       "\\end{tabular}\n"
      ],
      "text/markdown": [
       "\n",
       "A data.frame: 6 × 9\n",
       "\n",
       "| <!--/--> | age &lt;int&gt; | cigsPerDay &lt;dbl&gt; | totChol &lt;dbl&gt; | sysBP &lt;dbl&gt; | diaBP &lt;dbl&gt; | BMI &lt;dbl&gt; | heartRate &lt;dbl&gt; | glucose &lt;dbl&gt; | TenYearCHD &lt;int&gt; |\n",
       "|---|---|---|---|---|---|---|---|---|---|\n",
       "| 1 | 39 |  0 | 195 | 106.0 |  70 | 26.97 | 80 |  77 | 0 |\n",
       "| 2 | 46 |  0 | 250 | 121.0 |  81 | 28.73 | 95 |  76 | 0 |\n",
       "| 3 | 48 | 20 | 245 | 127.5 |  80 | 25.34 | 75 |  70 | 0 |\n",
       "| 4 | 61 | 30 | 225 | 150.0 |  95 | 28.58 | 65 | 103 | 1 |\n",
       "| 5 | 46 | 23 | 285 | 130.0 |  84 | 23.10 | 85 |  85 | 0 |\n",
       "| 6 | 43 |  0 | 228 | 180.0 | 110 | 30.30 | 77 |  99 | 0 |\n",
       "\n"
      ],
      "text/plain": [
       "  age cigsPerDay totChol sysBP diaBP BMI   heartRate glucose TenYearCHD\n",
       "1 39   0         195     106.0  70   26.97 80         77     0         \n",
       "2 46   0         250     121.0  81   28.73 95         76     0         \n",
       "3 48  20         245     127.5  80   25.34 75         70     0         \n",
       "4 61  30         225     150.0  95   28.58 65        103     1         \n",
       "5 46  23         285     130.0  84   23.10 85         85     0         \n",
       "6 43   0         228     180.0 110   30.30 77         99     0         "
      ]
     },
     "metadata": {},
     "output_type": "display_data"
    }
   ],
   "source": [
    "head(CHDrisk)"
   ]
  },
  {
   "cell_type": "code",
   "execution_count": null,
   "metadata": {},
   "outputs": [],
   "source": []
  }
 ],
 "metadata": {
  "kernelspec": {
   "display_name": "R",
   "language": "R",
   "name": "ir"
  },
  "language_info": {
   "codemirror_mode": "r",
   "file_extension": ".r",
   "mimetype": "text/x-r-source",
   "name": "R",
   "pygments_lexer": "r",
   "version": "4.1.1"
  }
 },
 "nbformat": 4,
 "nbformat_minor": 4
}
