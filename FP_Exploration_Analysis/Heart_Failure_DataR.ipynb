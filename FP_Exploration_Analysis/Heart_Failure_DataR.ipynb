{
 "cells": [
  {
   "cell_type": "markdown",
   "metadata": {},
   "source": [
    "### Data Exploration & Analysis on Heart Failure Dataset from UCI: https://archive.ics.uci.edu/ml/datasets/Heart+failure+clinical+records#"
   ]
  },
  {
   "cell_type": "markdown",
   "metadata": {},
   "source": [
    "#### <ins>Import Data<ins>"
   ]
  },
  {
   "cell_type": "code",
   "execution_count": 2,
   "metadata": {},
   "outputs": [],
   "source": [
    "HeartFail = read.csv('C:/Users/Mia/OneDrive/Documents/GitHub/Final_Project/Datasets/heart_failure_clinical_records_dataset.csv')"
   ]
  },
  {
   "cell_type": "code",
   "execution_count": 3,
   "metadata": {},
   "outputs": [
    {
     "data": {
      "text/html": [
       "<table class=\"dataframe\">\n",
       "<caption>A data.frame: 6 × 13</caption>\n",
       "<thead>\n",
       "\t<tr><th></th><th scope=col>age</th><th scope=col>anaemia</th><th scope=col>creatinine_phosphokinase</th><th scope=col>diabetes</th><th scope=col>ejection_fraction</th><th scope=col>high_blood_pressure</th><th scope=col>platelets</th><th scope=col>serum_creatinine</th><th scope=col>serum_sodium</th><th scope=col>sex</th><th scope=col>smoking</th><th scope=col>time</th><th scope=col>DEATH_EVENT</th></tr>\n",
       "\t<tr><th></th><th scope=col>&lt;dbl&gt;</th><th scope=col>&lt;int&gt;</th><th scope=col>&lt;int&gt;</th><th scope=col>&lt;int&gt;</th><th scope=col>&lt;int&gt;</th><th scope=col>&lt;int&gt;</th><th scope=col>&lt;dbl&gt;</th><th scope=col>&lt;dbl&gt;</th><th scope=col>&lt;int&gt;</th><th scope=col>&lt;int&gt;</th><th scope=col>&lt;int&gt;</th><th scope=col>&lt;int&gt;</th><th scope=col>&lt;int&gt;</th></tr>\n",
       "</thead>\n",
       "<tbody>\n",
       "\t<tr><th scope=row>1</th><td>75</td><td>0</td><td> 582</td><td>0</td><td>20</td><td>1</td><td>265000</td><td>1.9</td><td>130</td><td>1</td><td>0</td><td>4</td><td>1</td></tr>\n",
       "\t<tr><th scope=row>2</th><td>55</td><td>0</td><td>7861</td><td>0</td><td>38</td><td>0</td><td>263358</td><td>1.1</td><td>136</td><td>1</td><td>0</td><td>6</td><td>1</td></tr>\n",
       "\t<tr><th scope=row>3</th><td>65</td><td>0</td><td> 146</td><td>0</td><td>20</td><td>0</td><td>162000</td><td>1.3</td><td>129</td><td>1</td><td>1</td><td>7</td><td>1</td></tr>\n",
       "\t<tr><th scope=row>4</th><td>50</td><td>1</td><td> 111</td><td>0</td><td>20</td><td>0</td><td>210000</td><td>1.9</td><td>137</td><td>1</td><td>0</td><td>7</td><td>1</td></tr>\n",
       "\t<tr><th scope=row>5</th><td>65</td><td>1</td><td> 160</td><td>1</td><td>20</td><td>0</td><td>327000</td><td>2.7</td><td>116</td><td>0</td><td>0</td><td>8</td><td>1</td></tr>\n",
       "\t<tr><th scope=row>6</th><td>90</td><td>1</td><td>  47</td><td>0</td><td>40</td><td>1</td><td>204000</td><td>2.1</td><td>132</td><td>1</td><td>1</td><td>8</td><td>1</td></tr>\n",
       "</tbody>\n",
       "</table>\n"
      ],
      "text/latex": [
       "A data.frame: 6 × 13\n",
       "\\begin{tabular}{r|lllllllllllll}\n",
       "  & age & anaemia & creatinine\\_phosphokinase & diabetes & ejection\\_fraction & high\\_blood\\_pressure & platelets & serum\\_creatinine & serum\\_sodium & sex & smoking & time & DEATH\\_EVENT\\\\\n",
       "  & <dbl> & <int> & <int> & <int> & <int> & <int> & <dbl> & <dbl> & <int> & <int> & <int> & <int> & <int>\\\\\n",
       "\\hline\n",
       "\t1 & 75 & 0 &  582 & 0 & 20 & 1 & 265000 & 1.9 & 130 & 1 & 0 & 4 & 1\\\\\n",
       "\t2 & 55 & 0 & 7861 & 0 & 38 & 0 & 263358 & 1.1 & 136 & 1 & 0 & 6 & 1\\\\\n",
       "\t3 & 65 & 0 &  146 & 0 & 20 & 0 & 162000 & 1.3 & 129 & 1 & 1 & 7 & 1\\\\\n",
       "\t4 & 50 & 1 &  111 & 0 & 20 & 0 & 210000 & 1.9 & 137 & 1 & 0 & 7 & 1\\\\\n",
       "\t5 & 65 & 1 &  160 & 1 & 20 & 0 & 327000 & 2.7 & 116 & 0 & 0 & 8 & 1\\\\\n",
       "\t6 & 90 & 1 &   47 & 0 & 40 & 1 & 204000 & 2.1 & 132 & 1 & 1 & 8 & 1\\\\\n",
       "\\end{tabular}\n"
      ],
      "text/markdown": [
       "\n",
       "A data.frame: 6 × 13\n",
       "\n",
       "| <!--/--> | age &lt;dbl&gt; | anaemia &lt;int&gt; | creatinine_phosphokinase &lt;int&gt; | diabetes &lt;int&gt; | ejection_fraction &lt;int&gt; | high_blood_pressure &lt;int&gt; | platelets &lt;dbl&gt; | serum_creatinine &lt;dbl&gt; | serum_sodium &lt;int&gt; | sex &lt;int&gt; | smoking &lt;int&gt; | time &lt;int&gt; | DEATH_EVENT &lt;int&gt; |\n",
       "|---|---|---|---|---|---|---|---|---|---|---|---|---|---|\n",
       "| 1 | 75 | 0 |  582 | 0 | 20 | 1 | 265000 | 1.9 | 130 | 1 | 0 | 4 | 1 |\n",
       "| 2 | 55 | 0 | 7861 | 0 | 38 | 0 | 263358 | 1.1 | 136 | 1 | 0 | 6 | 1 |\n",
       "| 3 | 65 | 0 |  146 | 0 | 20 | 0 | 162000 | 1.3 | 129 | 1 | 1 | 7 | 1 |\n",
       "| 4 | 50 | 1 |  111 | 0 | 20 | 0 | 210000 | 1.9 | 137 | 1 | 0 | 7 | 1 |\n",
       "| 5 | 65 | 1 |  160 | 1 | 20 | 0 | 327000 | 2.7 | 116 | 0 | 0 | 8 | 1 |\n",
       "| 6 | 90 | 1 |   47 | 0 | 40 | 1 | 204000 | 2.1 | 132 | 1 | 1 | 8 | 1 |\n",
       "\n"
      ],
      "text/plain": [
       "  age anaemia creatinine_phosphokinase diabetes ejection_fraction\n",
       "1 75  0        582                     0        20               \n",
       "2 55  0       7861                     0        38               \n",
       "3 65  0        146                     0        20               \n",
       "4 50  1        111                     0        20               \n",
       "5 65  1        160                     1        20               \n",
       "6 90  1         47                     0        40               \n",
       "  high_blood_pressure platelets serum_creatinine serum_sodium sex smoking time\n",
       "1 1                   265000    1.9              130          1   0       4   \n",
       "2 0                   263358    1.1              136          1   0       6   \n",
       "3 0                   162000    1.3              129          1   1       7   \n",
       "4 0                   210000    1.9              137          1   0       7   \n",
       "5 0                   327000    2.7              116          0   0       8   \n",
       "6 1                   204000    2.1              132          1   1       8   \n",
       "  DEATH_EVENT\n",
       "1 1          \n",
       "2 1          \n",
       "3 1          \n",
       "4 1          \n",
       "5 1          \n",
       "6 1          "
      ]
     },
     "metadata": {},
     "output_type": "display_data"
    }
   ],
   "source": [
    "head(HeartFail)"
   ]
  },
  {
   "cell_type": "markdown",
   "metadata": {},
   "source": [
    "#### <ins>Load Libraries<ins>"
   ]
  },
  {
   "cell_type": "code",
   "execution_count": 11,
   "metadata": {},
   "outputs": [
    {
     "name": "stderr",
     "output_type": "stream",
     "text": [
      "\n",
      "Attaching package: 'popbio'\n",
      "\n",
      "\n",
      "The following object is masked from 'package:caret':\n",
      "\n",
      "    sensitivity\n",
      "\n",
      "\n"
     ]
    }
   ],
   "source": [
    "library(\"caret\")\n",
    "library(\"gmodels\")\n",
    "library(\"MASS\")\n",
    "library(\"dplyr\")\n",
    "library(\"magrittr\")\n",
    "library(\"dplyr\")\n",
    "library(\"tidyr\")\n",
    "library(\"lmtest\")\n",
    "library(\"popbio\")\n",
    "library(\"e1071\")"
   ]
  },
  {
   "cell_type": "code",
   "execution_count": 10,
   "metadata": {},
   "outputs": [
    {
     "name": "stderr",
     "output_type": "stream",
     "text": [
      "Installing package into 'C:/Users/Mia/OneDrive/Documents/R/win-library/4.1'\n",
      "(as 'lib' is unspecified)\n",
      "\n"
     ]
    },
    {
     "name": "stdout",
     "output_type": "stream",
     "text": [
      "package 'popbio' successfully unpacked and MD5 sums checked\n",
      "\n",
      "The downloaded binary packages are in\n",
      "\tC:\\Users\\Mia\\AppData\\Local\\Temp\\Rtmpugg6wc\\downloaded_packages\n"
     ]
    }
   ],
   "source": [
    "install.packages(\"popbio\")"
   ]
  },
  {
   "cell_type": "markdown",
   "metadata": {},
   "source": [
    "#### <ins><font color = blue>Which of the Continuous Independent Variables have the most influence on heart failure<ins></font>? "
   ]
  },
  {
   "cell_type": "markdown",
   "metadata": {},
   "source": [
    "#### - age: age of the patient (years)\n",
    "#### - creatinine phosphokinase (CPK): level of the CPK enzyme in the blood (mcg/L)\n",
    "#### - ejection fraction: percentage of blood leaving the heart at each contraction (percentage)\n",
    "#### - platelets: platelets in the blood (kiloplatelets/mL)\n",
    "#### - serum creatinine: level of serum creatinine in the blood (mg/dL)\n",
    "#### - serum sodium: level of serum sodium in the blood (mEq/L)\n",
    "#### - time: follow-up period (days)"
   ]
  },
  {
   "cell_type": "markdown",
   "metadata": {},
   "source": [
    "#### <ins><font color= blue>Setting up Logistic Regression<ins></font>\n",
    "#### Data Wrangling: Dependent Variable of death event is already coded to 1s and 0s so no recoding necessary"
   ]
  },
  {
   "cell_type": "markdown",
   "metadata": {},
   "source": [
    "#### <ins>Testing Assumptions For Sample Size<ins>\n",
    "#### Running base model for each IV"
   ]
  },
  {
   "cell_type": "code",
   "execution_count": 13,
   "metadata": {},
   "outputs": [],
   "source": [
    "Base_Model_age <- glm(DEATH_EVENT ~ age, data=HeartFail, family=\"binomial\")\n",
    "Base_Model_CP <- glm(DEATH_EVENT ~ creatinine_phosphokinase, data=HeartFail, family=\"binomial\")\n",
    "Base_Model_EF <- glm(DEATH_EVENT ~ ejection_fraction, data=HeartFail, family=\"binomial\")\n",
    "Base_Model_platelets <- glm(DEATH_EVENT ~ platelets, data=HeartFail, family=\"binomial\")\n",
    "Base_Model_SC <- glm(DEATH_EVENT ~ serum_creatinine, data=HeartFail, family=\"binomial\")\n",
    "Base_Model_SS <- glm(DEATH_EVENT ~ serum_sodium, data=HeartFail, family=\"binomial\")\n",
    "Base_Model_time <- glm(DEATH_EVENT ~ time, data=HeartFail, family=\"binomial\")"
   ]
  },
  {
   "cell_type": "code",
   "execution_count": 16,
   "metadata": {},
   "outputs": [],
   "source": [
    "#### Predicting Risk of Heart Failure"
   ]
  },
  {
   "cell_type": "code",
   "execution_count": 19,
   "metadata": {},
   "outputs": [],
   "source": [
    "probabilities_age <- predict(Base_Model_age, type = \"response\")\n",
    "HeartFail$age <- ifelse(probabilities_age > .5, 1, 0)\n",
    "\n",
    "probabilities_CP <- predict(Base_Model_CP, type = \"response\")\n",
    "HeartFail$creatinine_phosphokinase <- ifelse(probabilities_CP > .5, 1, 0)\n",
    "\n",
    "probabilities_EF <- predict(Base_Model_EF, type = \"response\")\n",
    "HeartFail$ejection_fraction <- ifelse(probabilities_EF > .5, 1, 0)\n",
    "\n",
    "probabilities_platelets <- predict(Base_Model_platelets, type = \"response\")\n",
    "HeartFail$platelets <- ifelse(probabilities_platelets > .5, 1, 0)\n",
    "\n",
    "probabilities_SC <- predict(Base_Model_SC, type = \"response\")\n",
    "HeartFail$serum_creatinine <- ifelse(probabilities_SC > .5, 1, 0)\n",
    "\n",
    "probabilities_SS <- predict(Base_Model_SS, type = \"response\")\n",
    "HeartFail$serum_sodium <- ifelse(probabilities_SS > .5, 1, 0)\n",
    "\n",
    "probabilities_time <- predict(Base_Model_time, type = \"response\")\n",
    "HeartFail$time <- ifelse(probabilities_time > .5, 1, 0)"
   ]
  },
  {
   "cell_type": "markdown",
   "metadata": {},
   "source": [
    "#### Confusion Matrix for each IV"
   ]
  },
  {
   "cell_type": "code",
   "execution_count": 20,
   "metadata": {},
   "outputs": [
    {
     "name": "stdout",
     "output_type": "stream",
     "text": [
      "Rows: 299\n",
      "Columns: 14\n",
      "$ age                      \u001b[3m\u001b[90m<dbl>\u001b[39m\u001b[23m 0, 0, 0, 0, 0, 1, 0, 0, 0, 1, 0, 0, 0, 0, 0, ~\n",
      "$ anaemia                  \u001b[3m\u001b[90m<int>\u001b[39m\u001b[23m 0, 0, 0, 1, 1, 1, 1, 1, 0, 1, 1, 0, 1, 1, 1, ~\n",
      "$ creatinine_phosphokinase \u001b[3m\u001b[90m<dbl>\u001b[39m\u001b[23m 0, 1, 0, 0, 0, 0, 0, 0, 0, 0, 0, 0, 0, 0, 0, ~\n",
      "$ diabetes                 \u001b[3m\u001b[90m<int>\u001b[39m\u001b[23m 0, 0, 0, 0, 1, 0, 0, 1, 0, 0, 0, 0, 0, 0, 0, ~\n",
      "$ ejection_fraction        \u001b[3m\u001b[90m<dbl>\u001b[39m\u001b[23m 1, 0, 1, 1, 1, 0, 1, 0, 0, 0, 0, 0, 0, 0, 0, ~\n",
      "$ high_blood_pressure      \u001b[3m\u001b[90m<int>\u001b[39m\u001b[23m 1, 0, 0, 0, 0, 1, 0, 0, 0, 1, 1, 1, 0, 1, 1, ~\n",
      "$ platelets                \u001b[3m\u001b[90m<dbl>\u001b[39m\u001b[23m 0, 0, 0, 0, 0, 0, 0, 0, 0, 0, 0, 0, 0, 0, 0, ~\n",
      "$ serum_creatinine         \u001b[3m\u001b[90m<dbl>\u001b[39m\u001b[23m 0, 0, 0, 0, 1, 0, 0, 0, 0, 1, 1, 0, 0, 0, 0, ~\n",
      "$ serum_sodium             \u001b[3m\u001b[90m<dbl>\u001b[39m\u001b[23m 0, 0, 0, 0, 1, 0, 0, 0, 0, 0, 0, 0, 0, 0, 0, ~\n",
      "$ sex                      \u001b[3m\u001b[90m<int>\u001b[39m\u001b[23m 1, 1, 1, 1, 0, 1, 1, 1, 0, 1, 1, 1, 1, 1, 0, ~\n",
      "$ smoking                  \u001b[3m\u001b[90m<int>\u001b[39m\u001b[23m 0, 0, 1, 0, 0, 1, 0, 1, 0, 1, 1, 1, 0, 0, 0, ~\n",
      "$ time                     \u001b[3m\u001b[90m<dbl>\u001b[39m\u001b[23m 1, 1, 1, 1, 1, 1, 1, 1, 1, 1, 1, 1, 1, 1, 1, ~\n",
      "$ DEATH_EVENT              \u001b[3m\u001b[90m<int>\u001b[39m\u001b[23m 1, 1, 1, 1, 1, 1, 1, 1, 1, 1, 1, 1, 1, 1, 0, ~\n",
      "$ creatinine_Phosphokinase \u001b[3m\u001b[90m<dbl>\u001b[39m\u001b[23m 0, 1, 0, 0, 0, 0, 0, 0, 0, 0, 0, 0, 0, 0, 0, ~\n"
     ]
    }
   ],
   "source": [
    "dplyr::glimpse(HeartFail)"
   ]
  },
  {
   "cell_type": "code",
   "execution_count": 21,
   "metadata": {},
   "outputs": [
    {
     "data": {
      "text/html": [
       "<table class=\"dataframe\">\n",
       "<caption>A data.frame: 6 × 14</caption>\n",
       "<thead>\n",
       "\t<tr><th></th><th scope=col>age</th><th scope=col>anaemia</th><th scope=col>creatinine_phosphokinase</th><th scope=col>diabetes</th><th scope=col>ejection_fraction</th><th scope=col>high_blood_pressure</th><th scope=col>platelets</th><th scope=col>serum_creatinine</th><th scope=col>serum_sodium</th><th scope=col>sex</th><th scope=col>smoking</th><th scope=col>time</th><th scope=col>DEATH_EVENT</th><th scope=col>creatinine_Phosphokinase</th></tr>\n",
       "\t<tr><th></th><th scope=col>&lt;dbl&gt;</th><th scope=col>&lt;int&gt;</th><th scope=col>&lt;dbl&gt;</th><th scope=col>&lt;int&gt;</th><th scope=col>&lt;dbl&gt;</th><th scope=col>&lt;int&gt;</th><th scope=col>&lt;dbl&gt;</th><th scope=col>&lt;dbl&gt;</th><th scope=col>&lt;dbl&gt;</th><th scope=col>&lt;int&gt;</th><th scope=col>&lt;int&gt;</th><th scope=col>&lt;dbl&gt;</th><th scope=col>&lt;int&gt;</th><th scope=col>&lt;dbl&gt;</th></tr>\n",
       "</thead>\n",
       "<tbody>\n",
       "\t<tr><th scope=row>1</th><td>0</td><td>0</td><td>0</td><td>0</td><td>1</td><td>1</td><td>0</td><td>0</td><td>0</td><td>1</td><td>0</td><td>1</td><td>1</td><td>0</td></tr>\n",
       "\t<tr><th scope=row>2</th><td>0</td><td>0</td><td>1</td><td>0</td><td>0</td><td>0</td><td>0</td><td>0</td><td>0</td><td>1</td><td>0</td><td>1</td><td>1</td><td>1</td></tr>\n",
       "\t<tr><th scope=row>3</th><td>0</td><td>0</td><td>0</td><td>0</td><td>1</td><td>0</td><td>0</td><td>0</td><td>0</td><td>1</td><td>1</td><td>1</td><td>1</td><td>0</td></tr>\n",
       "\t<tr><th scope=row>4</th><td>0</td><td>1</td><td>0</td><td>0</td><td>1</td><td>0</td><td>0</td><td>0</td><td>0</td><td>1</td><td>0</td><td>1</td><td>1</td><td>0</td></tr>\n",
       "\t<tr><th scope=row>5</th><td>0</td><td>1</td><td>0</td><td>1</td><td>1</td><td>0</td><td>0</td><td>1</td><td>1</td><td>0</td><td>0</td><td>1</td><td>1</td><td>0</td></tr>\n",
       "\t<tr><th scope=row>6</th><td>1</td><td>1</td><td>0</td><td>0</td><td>0</td><td>1</td><td>0</td><td>0</td><td>0</td><td>1</td><td>1</td><td>1</td><td>1</td><td>0</td></tr>\n",
       "</tbody>\n",
       "</table>\n"
      ],
      "text/latex": [
       "A data.frame: 6 × 14\n",
       "\\begin{tabular}{r|llllllllllllll}\n",
       "  & age & anaemia & creatinine\\_phosphokinase & diabetes & ejection\\_fraction & high\\_blood\\_pressure & platelets & serum\\_creatinine & serum\\_sodium & sex & smoking & time & DEATH\\_EVENT & creatinine\\_Phosphokinase\\\\\n",
       "  & <dbl> & <int> & <dbl> & <int> & <dbl> & <int> & <dbl> & <dbl> & <dbl> & <int> & <int> & <dbl> & <int> & <dbl>\\\\\n",
       "\\hline\n",
       "\t1 & 0 & 0 & 0 & 0 & 1 & 1 & 0 & 0 & 0 & 1 & 0 & 1 & 1 & 0\\\\\n",
       "\t2 & 0 & 0 & 1 & 0 & 0 & 0 & 0 & 0 & 0 & 1 & 0 & 1 & 1 & 1\\\\\n",
       "\t3 & 0 & 0 & 0 & 0 & 1 & 0 & 0 & 0 & 0 & 1 & 1 & 1 & 1 & 0\\\\\n",
       "\t4 & 0 & 1 & 0 & 0 & 1 & 0 & 0 & 0 & 0 & 1 & 0 & 1 & 1 & 0\\\\\n",
       "\t5 & 0 & 1 & 0 & 1 & 1 & 0 & 0 & 1 & 1 & 0 & 0 & 1 & 1 & 0\\\\\n",
       "\t6 & 1 & 1 & 0 & 0 & 0 & 1 & 0 & 0 & 0 & 1 & 1 & 1 & 1 & 0\\\\\n",
       "\\end{tabular}\n"
      ],
      "text/markdown": [
       "\n",
       "A data.frame: 6 × 14\n",
       "\n",
       "| <!--/--> | age &lt;dbl&gt; | anaemia &lt;int&gt; | creatinine_phosphokinase &lt;dbl&gt; | diabetes &lt;int&gt; | ejection_fraction &lt;dbl&gt; | high_blood_pressure &lt;int&gt; | platelets &lt;dbl&gt; | serum_creatinine &lt;dbl&gt; | serum_sodium &lt;dbl&gt; | sex &lt;int&gt; | smoking &lt;int&gt; | time &lt;dbl&gt; | DEATH_EVENT &lt;int&gt; | creatinine_Phosphokinase &lt;dbl&gt; |\n",
       "|---|---|---|---|---|---|---|---|---|---|---|---|---|---|---|\n",
       "| 1 | 0 | 0 | 0 | 0 | 1 | 1 | 0 | 0 | 0 | 1 | 0 | 1 | 1 | 0 |\n",
       "| 2 | 0 | 0 | 1 | 0 | 0 | 0 | 0 | 0 | 0 | 1 | 0 | 1 | 1 | 1 |\n",
       "| 3 | 0 | 0 | 0 | 0 | 1 | 0 | 0 | 0 | 0 | 1 | 1 | 1 | 1 | 0 |\n",
       "| 4 | 0 | 1 | 0 | 0 | 1 | 0 | 0 | 0 | 0 | 1 | 0 | 1 | 1 | 0 |\n",
       "| 5 | 0 | 1 | 0 | 1 | 1 | 0 | 0 | 1 | 1 | 0 | 0 | 1 | 1 | 0 |\n",
       "| 6 | 1 | 1 | 0 | 0 | 0 | 1 | 0 | 0 | 0 | 1 | 1 | 1 | 1 | 0 |\n",
       "\n"
      ],
      "text/plain": [
       "  age anaemia creatinine_phosphokinase diabetes ejection_fraction\n",
       "1 0   0       0                        0        1                \n",
       "2 0   0       1                        0        0                \n",
       "3 0   0       0                        0        1                \n",
       "4 0   1       0                        0        1                \n",
       "5 0   1       0                        1        1                \n",
       "6 1   1       0                        0        0                \n",
       "  high_blood_pressure platelets serum_creatinine serum_sodium sex smoking time\n",
       "1 1                   0         0                0            1   0       1   \n",
       "2 0                   0         0                0            1   0       1   \n",
       "3 0                   0         0                0            1   1       1   \n",
       "4 0                   0         0                0            1   0       1   \n",
       "5 0                   0         1                1            0   0       1   \n",
       "6 1                   0         0                0            1   1       1   \n",
       "  DEATH_EVENT creatinine_Phosphokinase\n",
       "1 1           0                       \n",
       "2 1           1                       \n",
       "3 1           0                       \n",
       "4 1           0                       \n",
       "5 1           0                       \n",
       "6 1           0                       "
      ]
     },
     "metadata": {},
     "output_type": "display_data"
    }
   ],
   "source": [
    "head(HeartFail)"
   ]
  },
  {
   "cell_type": "code",
   "execution_count": 22,
   "metadata": {},
   "outputs": [
    {
     "name": "stdout",
     "output_type": "stream",
     "text": [
      "'data.frame':\t299 obs. of  14 variables:\n",
      " $ age                     : num  0 0 0 0 0 1 0 0 0 1 ...\n",
      " $ anaemia                 : int  0 0 0 1 1 1 1 1 0 1 ...\n",
      " $ creatinine_phosphokinase: num  0 1 0 0 0 0 0 0 0 0 ...\n",
      " $ diabetes                : int  0 0 0 0 1 0 0 1 0 0 ...\n",
      " $ ejection_fraction       : num  1 0 1 1 1 0 1 0 0 0 ...\n",
      " $ high_blood_pressure     : int  1 0 0 0 0 1 0 0 0 1 ...\n",
      " $ platelets               : num  0 0 0 0 0 0 0 0 0 0 ...\n",
      " $ serum_creatinine        : num  0 0 0 0 1 0 0 0 0 1 ...\n",
      " $ serum_sodium            : num  0 0 0 0 1 0 0 0 0 0 ...\n",
      " $ sex                     : int  1 1 1 1 0 1 1 1 0 1 ...\n",
      " $ smoking                 : int  0 0 1 0 0 1 0 1 0 1 ...\n",
      " $ time                    : num  1 1 1 1 1 1 1 1 1 1 ...\n",
      " $ DEATH_EVENT             : int  1 1 1 1 1 1 1 1 1 1 ...\n",
      " $ creatinine_Phosphokinase: num  0 1 0 0 0 0 0 0 0 0 ...\n"
     ]
    }
   ],
   "source": [
    "str(HeartFail)"
   ]
  },
  {
   "cell_type": "markdown",
   "metadata": {},
   "source": [
    "#### I made an error on the creatinine_phosphokinase, and had the P capitizied above so I had to drop that column so now using HeartFail 1 as you see below"
   ]
  },
  {
   "cell_type": "code",
   "execution_count": 23,
   "metadata": {},
   "outputs": [],
   "source": [
    "HeartFail1 <- HeartFail[,1:13]"
   ]
  },
  {
   "cell_type": "code",
   "execution_count": 24,
   "metadata": {},
   "outputs": [
    {
     "data": {
      "text/html": [
       "<table class=\"dataframe\">\n",
       "<caption>A data.frame: 6 × 13</caption>\n",
       "<thead>\n",
       "\t<tr><th></th><th scope=col>age</th><th scope=col>anaemia</th><th scope=col>creatinine_phosphokinase</th><th scope=col>diabetes</th><th scope=col>ejection_fraction</th><th scope=col>high_blood_pressure</th><th scope=col>platelets</th><th scope=col>serum_creatinine</th><th scope=col>serum_sodium</th><th scope=col>sex</th><th scope=col>smoking</th><th scope=col>time</th><th scope=col>DEATH_EVENT</th></tr>\n",
       "\t<tr><th></th><th scope=col>&lt;dbl&gt;</th><th scope=col>&lt;int&gt;</th><th scope=col>&lt;dbl&gt;</th><th scope=col>&lt;int&gt;</th><th scope=col>&lt;dbl&gt;</th><th scope=col>&lt;int&gt;</th><th scope=col>&lt;dbl&gt;</th><th scope=col>&lt;dbl&gt;</th><th scope=col>&lt;dbl&gt;</th><th scope=col>&lt;int&gt;</th><th scope=col>&lt;int&gt;</th><th scope=col>&lt;dbl&gt;</th><th scope=col>&lt;int&gt;</th></tr>\n",
       "</thead>\n",
       "<tbody>\n",
       "\t<tr><th scope=row>1</th><td>0</td><td>0</td><td>0</td><td>0</td><td>1</td><td>1</td><td>0</td><td>0</td><td>0</td><td>1</td><td>0</td><td>1</td><td>1</td></tr>\n",
       "\t<tr><th scope=row>2</th><td>0</td><td>0</td><td>1</td><td>0</td><td>0</td><td>0</td><td>0</td><td>0</td><td>0</td><td>1</td><td>0</td><td>1</td><td>1</td></tr>\n",
       "\t<tr><th scope=row>3</th><td>0</td><td>0</td><td>0</td><td>0</td><td>1</td><td>0</td><td>0</td><td>0</td><td>0</td><td>1</td><td>1</td><td>1</td><td>1</td></tr>\n",
       "\t<tr><th scope=row>4</th><td>0</td><td>1</td><td>0</td><td>0</td><td>1</td><td>0</td><td>0</td><td>0</td><td>0</td><td>1</td><td>0</td><td>1</td><td>1</td></tr>\n",
       "\t<tr><th scope=row>5</th><td>0</td><td>1</td><td>0</td><td>1</td><td>1</td><td>0</td><td>0</td><td>1</td><td>1</td><td>0</td><td>0</td><td>1</td><td>1</td></tr>\n",
       "\t<tr><th scope=row>6</th><td>1</td><td>1</td><td>0</td><td>0</td><td>0</td><td>1</td><td>0</td><td>0</td><td>0</td><td>1</td><td>1</td><td>1</td><td>1</td></tr>\n",
       "</tbody>\n",
       "</table>\n"
      ],
      "text/latex": [
       "A data.frame: 6 × 13\n",
       "\\begin{tabular}{r|lllllllllllll}\n",
       "  & age & anaemia & creatinine\\_phosphokinase & diabetes & ejection\\_fraction & high\\_blood\\_pressure & platelets & serum\\_creatinine & serum\\_sodium & sex & smoking & time & DEATH\\_EVENT\\\\\n",
       "  & <dbl> & <int> & <dbl> & <int> & <dbl> & <int> & <dbl> & <dbl> & <dbl> & <int> & <int> & <dbl> & <int>\\\\\n",
       "\\hline\n",
       "\t1 & 0 & 0 & 0 & 0 & 1 & 1 & 0 & 0 & 0 & 1 & 0 & 1 & 1\\\\\n",
       "\t2 & 0 & 0 & 1 & 0 & 0 & 0 & 0 & 0 & 0 & 1 & 0 & 1 & 1\\\\\n",
       "\t3 & 0 & 0 & 0 & 0 & 1 & 0 & 0 & 0 & 0 & 1 & 1 & 1 & 1\\\\\n",
       "\t4 & 0 & 1 & 0 & 0 & 1 & 0 & 0 & 0 & 0 & 1 & 0 & 1 & 1\\\\\n",
       "\t5 & 0 & 1 & 0 & 1 & 1 & 0 & 0 & 1 & 1 & 0 & 0 & 1 & 1\\\\\n",
       "\t6 & 1 & 1 & 0 & 0 & 0 & 1 & 0 & 0 & 0 & 1 & 1 & 1 & 1\\\\\n",
       "\\end{tabular}\n"
      ],
      "text/markdown": [
       "\n",
       "A data.frame: 6 × 13\n",
       "\n",
       "| <!--/--> | age &lt;dbl&gt; | anaemia &lt;int&gt; | creatinine_phosphokinase &lt;dbl&gt; | diabetes &lt;int&gt; | ejection_fraction &lt;dbl&gt; | high_blood_pressure &lt;int&gt; | platelets &lt;dbl&gt; | serum_creatinine &lt;dbl&gt; | serum_sodium &lt;dbl&gt; | sex &lt;int&gt; | smoking &lt;int&gt; | time &lt;dbl&gt; | DEATH_EVENT &lt;int&gt; |\n",
       "|---|---|---|---|---|---|---|---|---|---|---|---|---|---|\n",
       "| 1 | 0 | 0 | 0 | 0 | 1 | 1 | 0 | 0 | 0 | 1 | 0 | 1 | 1 |\n",
       "| 2 | 0 | 0 | 1 | 0 | 0 | 0 | 0 | 0 | 0 | 1 | 0 | 1 | 1 |\n",
       "| 3 | 0 | 0 | 0 | 0 | 1 | 0 | 0 | 0 | 0 | 1 | 1 | 1 | 1 |\n",
       "| 4 | 0 | 1 | 0 | 0 | 1 | 0 | 0 | 0 | 0 | 1 | 0 | 1 | 1 |\n",
       "| 5 | 0 | 1 | 0 | 1 | 1 | 0 | 0 | 1 | 1 | 0 | 0 | 1 | 1 |\n",
       "| 6 | 1 | 1 | 0 | 0 | 0 | 1 | 0 | 0 | 0 | 1 | 1 | 1 | 1 |\n",
       "\n"
      ],
      "text/plain": [
       "  age anaemia creatinine_phosphokinase diabetes ejection_fraction\n",
       "1 0   0       0                        0        1                \n",
       "2 0   0       1                        0        0                \n",
       "3 0   0       0                        0        1                \n",
       "4 0   1       0                        0        1                \n",
       "5 0   1       0                        1        1                \n",
       "6 1   1       0                        0        0                \n",
       "  high_blood_pressure platelets serum_creatinine serum_sodium sex smoking time\n",
       "1 1                   0         0                0            1   0       1   \n",
       "2 0                   0         0                0            1   0       1   \n",
       "3 0                   0         0                0            1   1       1   \n",
       "4 0                   0         0                0            1   0       1   \n",
       "5 0                   0         1                1            0   0       1   \n",
       "6 1                   0         0                0            1   1       1   \n",
       "  DEATH_EVENT\n",
       "1 1          \n",
       "2 1          \n",
       "3 1          \n",
       "4 1          \n",
       "5 1          \n",
       "6 1          "
      ]
     },
     "metadata": {},
     "output_type": "display_data"
    }
   ],
   "source": [
    "head(HeartFail1)"
   ]
  },
  {
   "cell_type": "code",
   "execution_count": 29,
   "metadata": {},
   "outputs": [
    {
     "data": {
      "text/plain": [
       "Confusion Matrix and Statistics\n",
       "\n",
       "          Reference\n",
       "Prediction   0   1\n",
       "         0 193  78\n",
       "         1  10  18\n",
       "                                          \n",
       "               Accuracy : 0.7057          \n",
       "                 95% CI : (0.6505, 0.7567)\n",
       "    No Information Rate : 0.6789          \n",
       "    P-Value [Acc > NIR] : 0.1767          \n",
       "                                          \n",
       "                  Kappa : 0.17            \n",
       "                                          \n",
       " Mcnemar's Test P-Value : 9.183e-13       \n",
       "                                          \n",
       "            Sensitivity : 0.9507          \n",
       "            Specificity : 0.1875          \n",
       "         Pos Pred Value : 0.7122          \n",
       "         Neg Pred Value : 0.6429          \n",
       "             Prevalence : 0.6789          \n",
       "         Detection Rate : 0.6455          \n",
       "   Detection Prevalence : 0.9064          \n",
       "      Balanced Accuracy : 0.5691          \n",
       "                                          \n",
       "       'Positive' Class : 0               \n",
       "                                          "
      ]
     },
     "metadata": {},
     "output_type": "display_data"
    }
   ],
   "source": [
    "HeartFail1$age <- as.factor(HeartFail1$age)\n",
    "HeartFail1$DEATH_EVENT <- as.factor(HeartFail1$DEATH_EVENT)\n",
    "conf_mat <- caret::confusionMatrix(HeartFail1$age, HeartFail1$DEATH_EVENT)\n",
    "conf_mat\n"
   ]
  },
  {
   "cell_type": "markdown",
   "metadata": {},
   "source": [
    "#### The balanced accuracy is 56.9% for age predicting heart failure\n",
    "#### Meets assumption for sample size"
   ]
  },
  {
   "cell_type": "code",
   "execution_count": 31,
   "metadata": {},
   "outputs": [
    {
     "data": {
      "text/plain": [
       "Confusion Matrix and Statistics\n",
       "\n",
       "          Reference\n",
       "Prediction   0   1\n",
       "         0 203  94\n",
       "         1   0   2\n",
       "                                          \n",
       "               Accuracy : 0.6856          \n",
       "                 95% CI : (0.6297, 0.7378)\n",
       "    No Information Rate : 0.6789          \n",
       "    P-Value [Acc > NIR] : 0.4291          \n",
       "                                          \n",
       "                  Kappa : 0.0281          \n",
       "                                          \n",
       " Mcnemar's Test P-Value : <2e-16          \n",
       "                                          \n",
       "            Sensitivity : 1.00000         \n",
       "            Specificity : 0.02083         \n",
       "         Pos Pred Value : 0.68350         \n",
       "         Neg Pred Value : 1.00000         \n",
       "             Prevalence : 0.67893         \n",
       "         Detection Rate : 0.67893         \n",
       "   Detection Prevalence : 0.99331         \n",
       "      Balanced Accuracy : 0.51042         \n",
       "                                          \n",
       "       'Positive' Class : 0               \n",
       "                                          "
      ]
     },
     "metadata": {},
     "output_type": "display_data"
    }
   ],
   "source": [
    "HeartFail1$creatinine_phosphokinase <- as.factor(HeartFail1$creatinine_phosphokinase)\n",
    "HeartFail1$DEATH_EVENT <- as.factor(HeartFail1$DEATH_EVENT)\n",
    "conf_mat <- caret::confusionMatrix(HeartFail1$creatinine_phosphokinase, HeartFail1$DEATH_EVENT)\n",
    "conf_mat"
   ]
  },
  {
   "cell_type": "markdown",
   "metadata": {},
   "source": [
    "#### The balanced accuracy is 51% for predicting heart failure\n",
    "#### This does not meet the assumption for sample size"
   ]
  },
  {
   "cell_type": "code",
   "execution_count": 33,
   "metadata": {},
   "outputs": [
    {
     "data": {
      "text/plain": [
       "Confusion Matrix and Statistics\n",
       "\n",
       "          Reference\n",
       "Prediction   0   1\n",
       "         0 200  76\n",
       "         1   3  20\n",
       "                                         \n",
       "               Accuracy : 0.7358         \n",
       "                 95% CI : (0.682, 0.7849)\n",
       "    No Information Rate : 0.6789         \n",
       "    P-Value [Acc > NIR] : 0.01921        \n",
       "                                         \n",
       "                  Kappa : 0.2421         \n",
       "                                         \n",
       " Mcnemar's Test P-Value : 5.467e-16      \n",
       "                                         \n",
       "            Sensitivity : 0.9852         \n",
       "            Specificity : 0.2083         \n",
       "         Pos Pred Value : 0.7246         \n",
       "         Neg Pred Value : 0.8696         \n",
       "             Prevalence : 0.6789         \n",
       "         Detection Rate : 0.6689         \n",
       "   Detection Prevalence : 0.9231         \n",
       "      Balanced Accuracy : 0.5968         \n",
       "                                         \n",
       "       'Positive' Class : 0              \n",
       "                                         "
      ]
     },
     "metadata": {},
     "output_type": "display_data"
    }
   ],
   "source": [
    "HeartFail1$ejection_fraction <- as.factor(HeartFail1$ejection_fraction)\n",
    "HeartFail1$DEATH_EVENT <- as.factor(HeartFail1$DEATH_EVENT)\n",
    "conf_mat <- caret::confusionMatrix(HeartFail1$ejection_fraction, HeartFail1$DEATH_EVENT)\n",
    "conf_mat"
   ]
  },
  {
   "cell_type": "markdown",
   "metadata": {},
   "source": [
    "#### Balanced accuracy for ejection fraction is 59.7% however this those not meet sample size requirement"
   ]
  },
  {
   "cell_type": "code",
   "execution_count": 34,
   "metadata": {},
   "outputs": [
    {
     "name": "stderr",
     "output_type": "stream",
     "text": [
      "Warning message in confusionMatrix.default(HeartFail1$platelets, HeartFail1$DEATH_EVENT):\n",
      "\"Levels are not in the same order for reference and data. Refactoring data to match.\"\n"
     ]
    },
    {
     "data": {
      "text/plain": [
       "Confusion Matrix and Statistics\n",
       "\n",
       "          Reference\n",
       "Prediction   0   1\n",
       "         0 203  96\n",
       "         1   0   0\n",
       "                                          \n",
       "               Accuracy : 0.6789          \n",
       "                 95% CI : (0.6228, 0.7315)\n",
       "    No Information Rate : 0.6789          \n",
       "    P-Value [Acc > NIR] : 0.5276          \n",
       "                                          \n",
       "                  Kappa : 0               \n",
       "                                          \n",
       " Mcnemar's Test P-Value : <2e-16          \n",
       "                                          \n",
       "            Sensitivity : 1.0000          \n",
       "            Specificity : 0.0000          \n",
       "         Pos Pred Value : 0.6789          \n",
       "         Neg Pred Value :    NaN          \n",
       "             Prevalence : 0.6789          \n",
       "         Detection Rate : 0.6789          \n",
       "   Detection Prevalence : 1.0000          \n",
       "      Balanced Accuracy : 0.5000          \n",
       "                                          \n",
       "       'Positive' Class : 0               \n",
       "                                          "
      ]
     },
     "metadata": {},
     "output_type": "display_data"
    }
   ],
   "source": [
    "HeartFail1$platelets <- as.factor(HeartFail1$platelets)\n",
    "HeartFail1$DEATH_EVENT <- as.factor(HeartFail1$DEATH_EVENT)\n",
    "conf_mat <- caret::confusionMatrix(HeartFail1$platelets, HeartFail1$DEATH_EVENT)\n",
    "conf_mat"
   ]
  },
  {
   "cell_type": "code",
   "execution_count": 35,
   "metadata": {},
   "outputs": [
    {
     "data": {
      "text/plain": [
       "Confusion Matrix and Statistics\n",
       "\n",
       "          Reference\n",
       "Prediction   0   1\n",
       "         0 192  79\n",
       "         1  11  17\n",
       "                                          \n",
       "               Accuracy : 0.699           \n",
       "                 95% CI : (0.6435, 0.7505)\n",
       "    No Information Rate : 0.6789          \n",
       "    P-Value [Acc > NIR] : 0.2491          \n",
       "                                          \n",
       "                  Kappa : 0.1511          \n",
       "                                          \n",
       " Mcnemar's Test P-Value : 1.636e-12       \n",
       "                                          \n",
       "            Sensitivity : 0.9458          \n",
       "            Specificity : 0.1771          \n",
       "         Pos Pred Value : 0.7085          \n",
       "         Neg Pred Value : 0.6071          \n",
       "             Prevalence : 0.6789          \n",
       "         Detection Rate : 0.6421          \n",
       "   Detection Prevalence : 0.9064          \n",
       "      Balanced Accuracy : 0.5614          \n",
       "                                          \n",
       "       'Positive' Class : 0               \n",
       "                                          "
      ]
     },
     "metadata": {},
     "output_type": "display_data"
    }
   ],
   "source": [
    "HeartFail1$serum_creatinine <- as.factor(HeartFail1$serum_creatinine)\n",
    "HeartFail1$DEATH_EVENT <- as.factor(HeartFail1$DEATH_EVENT)\n",
    "conf_mat <- caret::confusionMatrix(HeartFail1$serum_creatinine, HeartFail1$DEATH_EVENT)\n",
    "conf_mat"
   ]
  },
  {
   "cell_type": "markdown",
   "metadata": {},
   "source": [
    "#### Serum Creatinine has 56% balanced accuracy and meets the assumption for sample size"
   ]
  },
  {
   "cell_type": "code",
   "execution_count": 37,
   "metadata": {},
   "outputs": [
    {
     "data": {
      "text/plain": [
       "Confusion Matrix and Statistics\n",
       "\n",
       "          Reference\n",
       "Prediction   0   1\n",
       "         0 199  89\n",
       "         1   4   7\n",
       "                                         \n",
       "               Accuracy : 0.689          \n",
       "                 95% CI : (0.6331, 0.741)\n",
       "    No Information Rate : 0.6789         \n",
       "    P-Value [Acc > NIR] : 0.381          \n",
       "                                         \n",
       "                  Kappa : 0.0694         \n",
       "                                         \n",
       " Mcnemar's Test P-Value : <2e-16         \n",
       "                                         \n",
       "            Sensitivity : 0.98030        \n",
       "            Specificity : 0.07292        \n",
       "         Pos Pred Value : 0.69097        \n",
       "         Neg Pred Value : 0.63636        \n",
       "             Prevalence : 0.67893        \n",
       "         Detection Rate : 0.66555        \n",
       "   Detection Prevalence : 0.96321        \n",
       "      Balanced Accuracy : 0.52661        \n",
       "                                         \n",
       "       'Positive' Class : 0              \n",
       "                                         "
      ]
     },
     "metadata": {},
     "output_type": "display_data"
    }
   ],
   "source": [
    "HeartFail1$serum_sodium <- as.factor(HeartFail1$serum_sodium)\n",
    "HeartFail1$DEATH_EVENT <- as.factor(HeartFail1$DEATH_EVENT)\n",
    "conf_mat <- caret::confusionMatrix(HeartFail1$serum_sodium, HeartFail1$DEATH_EVENT)\n",
    "conf_mat"
   ]
  },
  {
   "cell_type": "markdown",
   "metadata": {},
   "source": [
    "#### Serum sodium has a 52.7% balanced accuracy "
   ]
  },
  {
   "cell_type": "code",
   "execution_count": 38,
   "metadata": {},
   "outputs": [
    {
     "data": {
      "text/plain": [
       "Confusion Matrix and Statistics\n",
       "\n",
       "          Reference\n",
       "Prediction   0   1\n",
       "         0 190  35\n",
       "         1  13  61\n",
       "                                          \n",
       "               Accuracy : 0.8395          \n",
       "                 95% CI : (0.7929, 0.8792)\n",
       "    No Information Rate : 0.6789          \n",
       "    P-Value [Acc > NIR] : 2.136e-10       \n",
       "                                          \n",
       "                  Kappa : 0.6081          \n",
       "                                          \n",
       " Mcnemar's Test P-Value : 0.002437        \n",
       "                                          \n",
       "            Sensitivity : 0.9360          \n",
       "            Specificity : 0.6354          \n",
       "         Pos Pred Value : 0.8444          \n",
       "         Neg Pred Value : 0.8243          \n",
       "             Prevalence : 0.6789          \n",
       "         Detection Rate : 0.6355          \n",
       "   Detection Prevalence : 0.7525          \n",
       "      Balanced Accuracy : 0.7857          \n",
       "                                          \n",
       "       'Positive' Class : 0               \n",
       "                                          "
      ]
     },
     "metadata": {},
     "output_type": "display_data"
    }
   ],
   "source": [
    "HeartFail1$time <- as.factor(HeartFail1$time)\n",
    "HeartFail1$DEATH_EVENT <- as.factor(HeartFail1$DEATH_EVENT)\n",
    "conf_mat <- caret::confusionMatrix(HeartFail1$time, HeartFail1$DEATH_EVENT)\n",
    "conf_mat"
   ]
  },
  {
   "cell_type": "markdown",
   "metadata": {},
   "source": [
    "#### Time has a 78.6% balanced accuracy and meets sample size requirements"
   ]
  },
  {
   "cell_type": "code",
   "execution_count": null,
   "metadata": {},
   "outputs": [],
   "source": []
  }
 ],
 "metadata": {
  "kernelspec": {
   "display_name": "R",
   "language": "R",
   "name": "ir"
  },
  "language_info": {
   "codemirror_mode": "r",
   "file_extension": ".r",
   "mimetype": "text/x-r-source",
   "name": "R",
   "pygments_lexer": "r",
   "version": "4.1.1"
  }
 },
 "nbformat": 4,
 "nbformat_minor": 4
}
